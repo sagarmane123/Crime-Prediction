{
 "cells": [
  {
   "cell_type": "markdown",
   "metadata": {
    "deletable": true,
    "editable": true
   },
   "source": [
    "# CS584 Machine Learning\n",
    "## Howmework Project: Crime Prediction"
   ]
  },
  {
   "cell_type": "markdown",
   "metadata": {
    "deletable": true,
    "editable": true
   },
   "source": [
    "### 1. Decision Trees "
   ]
  },
  {
   "cell_type": "markdown",
   "metadata": {
    "deletable": true,
    "editable": true
   },
   "source": [
    "#### a.\tCreate a new field “highCrime” which is true if the crime rate per capita (ViolentCrimesPerPop) is greater than 0.1, and false otherwise. What are the percentage of positive and negative instances in the dataset?"
   ]
  },
  {
   "cell_type": "code",
   "execution_count": 46,
   "metadata": {
    "collapsed": true,
    "deletable": true,
    "editable": true
   },
   "outputs": [],
   "source": [
    "# Import library\n",
    "\n",
    "import pandas as pd\n",
    "import numpy as np\n",
    "from sklearn import tree, metrics\n",
    "from sklearn.model_selection import cross_val_score\n",
    "from sklearn.naive_bayes import GaussianNB\n",
    "from sklearn.svm import LinearSVC\n",
    "from sklearn.linear_model import LinearRegression\n",
    "from sklearn.linear_model import Ridge\n",
    "from sklearn.linear_model import RidgeCV\n",
    "from sklearn.preprocessing import PolynomialFeatures\n",
    "from sklearn.pipeline import Pipeline\n",
    "\n",
    "import warnings\n",
    "warnings.filterwarnings(\"ignore\")\n",
    "\n",
    "% matplotlib inline\n",
    "import matplotlib.pyplot as plt\n",
    "plt.style.use('ggplot')\n",
    "colors = plt.rcParams['axes.color_cycle'][1], plt.rcParams['axes.color_cycle'][4]"
   ]
  },
  {
   "cell_type": "code",
   "execution_count": 47,
   "metadata": {
    "collapsed": true,
    "deletable": true,
    "editable": true
   },
   "outputs": [],
   "source": [
    "#load clean data\n",
    "\n",
    "df = pd.read_csv(\"Crime Prediction Data\\\\communities-crime-clean.csv\")"
   ]
  },
  {
   "cell_type": "code",
   "execution_count": 48,
   "metadata": {
    "collapsed": false,
    "deletable": true,
    "editable": true
   },
   "outputs": [
    {
     "data": {
      "text/html": [
       "<div>\n",
       "<table border=\"1\" class=\"dataframe\">\n",
       "  <thead>\n",
       "    <tr style=\"text-align: right;\">\n",
       "      <th></th>\n",
       "      <th>0</th>\n",
       "    </tr>\n",
       "  </thead>\n",
       "  <tbody>\n",
       "    <tr>\n",
       "      <th>0</th>\n",
       "      <td>False</td>\n",
       "    </tr>\n",
       "    <tr>\n",
       "      <th>1</th>\n",
       "      <td>True</td>\n",
       "    </tr>\n",
       "    <tr>\n",
       "      <th>2</th>\n",
       "      <td>True</td>\n",
       "    </tr>\n",
       "    <tr>\n",
       "      <th>3</th>\n",
       "      <td>True</td>\n",
       "    </tr>\n",
       "    <tr>\n",
       "      <th>4</th>\n",
       "      <td>True</td>\n",
       "    </tr>\n",
       "    <tr>\n",
       "      <th>5</th>\n",
       "      <td>True</td>\n",
       "    </tr>\n",
       "    <tr>\n",
       "      <th>6</th>\n",
       "      <td>True</td>\n",
       "    </tr>\n",
       "    <tr>\n",
       "      <th>7</th>\n",
       "      <td>True</td>\n",
       "    </tr>\n",
       "    <tr>\n",
       "      <th>8</th>\n",
       "      <td>False</td>\n",
       "    </tr>\n",
       "    <tr>\n",
       "      <th>9</th>\n",
       "      <td>True</td>\n",
       "    </tr>\n",
       "    <tr>\n",
       "      <th>10</th>\n",
       "      <td>True</td>\n",
       "    </tr>\n",
       "    <tr>\n",
       "      <th>11</th>\n",
       "      <td>True</td>\n",
       "    </tr>\n",
       "    <tr>\n",
       "      <th>12</th>\n",
       "      <td>True</td>\n",
       "    </tr>\n",
       "    <tr>\n",
       "      <th>13</th>\n",
       "      <td>True</td>\n",
       "    </tr>\n",
       "    <tr>\n",
       "      <th>14</th>\n",
       "      <td>True</td>\n",
       "    </tr>\n",
       "    <tr>\n",
       "      <th>15</th>\n",
       "      <td>False</td>\n",
       "    </tr>\n",
       "    <tr>\n",
       "      <th>16</th>\n",
       "      <td>True</td>\n",
       "    </tr>\n",
       "    <tr>\n",
       "      <th>17</th>\n",
       "      <td>False</td>\n",
       "    </tr>\n",
       "    <tr>\n",
       "      <th>18</th>\n",
       "      <td>True</td>\n",
       "    </tr>\n",
       "    <tr>\n",
       "      <th>19</th>\n",
       "      <td>False</td>\n",
       "    </tr>\n",
       "    <tr>\n",
       "      <th>20</th>\n",
       "      <td>True</td>\n",
       "    </tr>\n",
       "    <tr>\n",
       "      <th>21</th>\n",
       "      <td>True</td>\n",
       "    </tr>\n",
       "    <tr>\n",
       "      <th>22</th>\n",
       "      <td>True</td>\n",
       "    </tr>\n",
       "    <tr>\n",
       "      <th>23</th>\n",
       "      <td>True</td>\n",
       "    </tr>\n",
       "    <tr>\n",
       "      <th>24</th>\n",
       "      <td>False</td>\n",
       "    </tr>\n",
       "    <tr>\n",
       "      <th>25</th>\n",
       "      <td>True</td>\n",
       "    </tr>\n",
       "    <tr>\n",
       "      <th>26</th>\n",
       "      <td>True</td>\n",
       "    </tr>\n",
       "    <tr>\n",
       "      <th>27</th>\n",
       "      <td>False</td>\n",
       "    </tr>\n",
       "    <tr>\n",
       "      <th>28</th>\n",
       "      <td>True</td>\n",
       "    </tr>\n",
       "    <tr>\n",
       "      <th>29</th>\n",
       "      <td>True</td>\n",
       "    </tr>\n",
       "    <tr>\n",
       "      <th>...</th>\n",
       "      <td>...</td>\n",
       "    </tr>\n",
       "    <tr>\n",
       "      <th>1963</th>\n",
       "      <td>False</td>\n",
       "    </tr>\n",
       "    <tr>\n",
       "      <th>1964</th>\n",
       "      <td>False</td>\n",
       "    </tr>\n",
       "    <tr>\n",
       "      <th>1965</th>\n",
       "      <td>False</td>\n",
       "    </tr>\n",
       "    <tr>\n",
       "      <th>1966</th>\n",
       "      <td>False</td>\n",
       "    </tr>\n",
       "    <tr>\n",
       "      <th>1967</th>\n",
       "      <td>False</td>\n",
       "    </tr>\n",
       "    <tr>\n",
       "      <th>1968</th>\n",
       "      <td>True</td>\n",
       "    </tr>\n",
       "    <tr>\n",
       "      <th>1969</th>\n",
       "      <td>False</td>\n",
       "    </tr>\n",
       "    <tr>\n",
       "      <th>1970</th>\n",
       "      <td>False</td>\n",
       "    </tr>\n",
       "    <tr>\n",
       "      <th>1971</th>\n",
       "      <td>False</td>\n",
       "    </tr>\n",
       "    <tr>\n",
       "      <th>1972</th>\n",
       "      <td>False</td>\n",
       "    </tr>\n",
       "    <tr>\n",
       "      <th>1973</th>\n",
       "      <td>False</td>\n",
       "    </tr>\n",
       "    <tr>\n",
       "      <th>1974</th>\n",
       "      <td>False</td>\n",
       "    </tr>\n",
       "    <tr>\n",
       "      <th>1975</th>\n",
       "      <td>True</td>\n",
       "    </tr>\n",
       "    <tr>\n",
       "      <th>1976</th>\n",
       "      <td>False</td>\n",
       "    </tr>\n",
       "    <tr>\n",
       "      <th>1977</th>\n",
       "      <td>False</td>\n",
       "    </tr>\n",
       "    <tr>\n",
       "      <th>1978</th>\n",
       "      <td>False</td>\n",
       "    </tr>\n",
       "    <tr>\n",
       "      <th>1979</th>\n",
       "      <td>False</td>\n",
       "    </tr>\n",
       "    <tr>\n",
       "      <th>1980</th>\n",
       "      <td>False</td>\n",
       "    </tr>\n",
       "    <tr>\n",
       "      <th>1981</th>\n",
       "      <td>False</td>\n",
       "    </tr>\n",
       "    <tr>\n",
       "      <th>1982</th>\n",
       "      <td>False</td>\n",
       "    </tr>\n",
       "    <tr>\n",
       "      <th>1983</th>\n",
       "      <td>False</td>\n",
       "    </tr>\n",
       "    <tr>\n",
       "      <th>1984</th>\n",
       "      <td>False</td>\n",
       "    </tr>\n",
       "    <tr>\n",
       "      <th>1985</th>\n",
       "      <td>True</td>\n",
       "    </tr>\n",
       "    <tr>\n",
       "      <th>1986</th>\n",
       "      <td>False</td>\n",
       "    </tr>\n",
       "    <tr>\n",
       "      <th>1987</th>\n",
       "      <td>True</td>\n",
       "    </tr>\n",
       "    <tr>\n",
       "      <th>1988</th>\n",
       "      <td>True</td>\n",
       "    </tr>\n",
       "    <tr>\n",
       "      <th>1989</th>\n",
       "      <td>False</td>\n",
       "    </tr>\n",
       "    <tr>\n",
       "      <th>1990</th>\n",
       "      <td>True</td>\n",
       "    </tr>\n",
       "    <tr>\n",
       "      <th>1991</th>\n",
       "      <td>True</td>\n",
       "    </tr>\n",
       "    <tr>\n",
       "      <th>1992</th>\n",
       "      <td>False</td>\n",
       "    </tr>\n",
       "  </tbody>\n",
       "</table>\n",
       "<p>1993 rows × 1 columns</p>\n",
       "</div>"
      ],
      "text/plain": [
       "          0\n",
       "0     False\n",
       "1      True\n",
       "2      True\n",
       "3      True\n",
       "4      True\n",
       "5      True\n",
       "6      True\n",
       "7      True\n",
       "8     False\n",
       "9      True\n",
       "10     True\n",
       "11     True\n",
       "12     True\n",
       "13     True\n",
       "14     True\n",
       "15    False\n",
       "16     True\n",
       "17    False\n",
       "18     True\n",
       "19    False\n",
       "20     True\n",
       "21     True\n",
       "22     True\n",
       "23     True\n",
       "24    False\n",
       "25     True\n",
       "26     True\n",
       "27    False\n",
       "28     True\n",
       "29     True\n",
       "...     ...\n",
       "1963  False\n",
       "1964  False\n",
       "1965  False\n",
       "1966  False\n",
       "1967  False\n",
       "1968   True\n",
       "1969  False\n",
       "1970  False\n",
       "1971  False\n",
       "1972  False\n",
       "1973  False\n",
       "1974  False\n",
       "1975   True\n",
       "1976  False\n",
       "1977  False\n",
       "1978  False\n",
       "1979  False\n",
       "1980  False\n",
       "1981  False\n",
       "1982  False\n",
       "1983  False\n",
       "1984  False\n",
       "1985   True\n",
       "1986  False\n",
       "1987   True\n",
       "1988   True\n",
       "1989  False\n",
       "1990   True\n",
       "1991   True\n",
       "1992  False\n",
       "\n",
       "[1993 rows x 1 columns]"
      ]
     },
     "execution_count": 48,
     "metadata": {},
     "output_type": "execute_result"
    }
   ],
   "source": [
    "# Create a new field “highCrime” which is true if the crime rate per capita (ViolentCrimesPerPop) is greater than 0.1, and false otherwise\n",
    "\n",
    "highCrime = []\n",
    "pos=0\n",
    "neg=0\n",
    "\n",
    "for i in df[\"ViolentCrimesPerPop\"]:\n",
    "    if i > 0.1:\n",
    "        highCrime.append(True)\n",
    "        pos+=1\n",
    "    else:\n",
    "        highCrime.append(False)\n",
    "        neg+=1\n",
    "\n",
    "highCrime = pd.DataFrame(highCrime)\n",
    "\n",
    "highCrime"
   ]
  },
  {
   "cell_type": "code",
   "execution_count": 49,
   "metadata": {
    "collapsed": false,
    "deletable": true,
    "editable": true
   },
   "outputs": [
    {
     "name": "stdout",
     "output_type": "stream",
     "text": [
      "Percentage of Positive Instances:  62.719518314099346\n",
      "Percentage of Negative Instances:  37.280481685900654\n"
     ]
    },
    {
     "data": {
      "image/png": "[encoded data removed]",
      "text/plain": [
       "<matplotlib.figure.Figure at 0x8b41970>"
      ]
     },
     "metadata": {},
     "output_type": "display_data"
    }
   ],
   "source": [
    "# Percentage of positive and negative instances in the dataset\n",
    "\n",
    "#Positive Instances\n",
    "\n",
    "print(\"Percentage of Positive Instances: \", pos/len(highCrime)*100)\n",
    "\n",
    "#Negative Instances\n",
    "\n",
    "print(\"Percentage of Negative Instances: \", neg/len(highCrime)*100)\n",
    "\n",
    "fig = plt.figure(figsize=(15, 8))\n",
    "ax = fig.gca()\n",
    "labels = [\"Positive Instances (%d)\" % pos, \"Negative Instances (%d)\" % neg]\n",
    "sizes = [pos, neg]\n",
    "plt.rcParams.update({'font.size': 22})\n",
    "ax.pie(sizes, labels=labels, colors=colors, autopct='%1.2f%%')\n",
    "plt.title(\"highCrime\")\n",
    "ax.set_aspect('equal')"
   ]
  },
  {
   "cell_type": "markdown",
   "metadata": {
    "deletable": true,
    "editable": true
   },
   "source": [
    "#### b.\t Use DecisionTreeClassifier to learn a decision tree to predict highCrime on the entire dataset (remember to exclude the crime rate feature from the input feature set so you are not cheating). "
   ]
  },
  {
   "cell_type": "code",
   "execution_count": 50,
   "metadata": {
    "collapsed": true,
    "deletable": true,
    "editable": true
   },
   "outputs": [],
   "source": [
    "# Remove non predictive attribute\n",
    "\n",
    "df = df.drop([\"state\"], axis=1)\n",
    "df = df.drop([\"communityname\"], axis=1)\n",
    "df = df.drop([\"fold\"], axis=1)\n",
    "df = df.drop([\"ViolentCrimesPerPop\"], axis=1)\n",
    "df = pd.DataFrame(df)"
   ]
  },
  {
   "cell_type": "code",
   "execution_count": 51,
   "metadata": {
    "collapsed": false,
    "deletable": true,
    "editable": true
   },
   "outputs": [],
   "source": [
    "# Build Decision Tree Classifier \n",
    "\n",
    "DT = tree.DecisionTreeClassifier()\n",
    "DT = DT.fit(df, highCrime)\n",
    "\n",
    "# Predict class vale for df\n",
    "\n",
    "DT_predict = DT.predict(df)"
   ]
  },
  {
   "cell_type": "markdown",
   "metadata": {
    "deletable": true,
    "editable": true
   },
   "source": [
    "#### i.\tWhat are the training accuracy, precision, and recall for this tree? "
   ]
  },
  {
   "cell_type": "code",
   "execution_count": 52,
   "metadata": {
    "collapsed": false,
    "deletable": true,
    "editable": true
   },
   "outputs": [
    {
     "name": "stdout",
     "output_type": "stream",
     "text": [
      "Accuracy:  1.0\n",
      "Precision:  1.0\n",
      "Recall: 1.0\n"
     ]
    }
   ],
   "source": [
    "# Accuracy\n",
    "accuracy_DT = metrics.accuracy_score(highCrime, DT_predict)\n",
    "print(\"Accuracy: \", accuracy_DT)\n",
    "\n",
    "# Precision\n",
    "precision_DT = metrics.precision_score(highCrime, DT_predict)\n",
    "print(\"Precision: \", precision_DT )\n",
    "\n",
    "# Recall\n",
    "recall_DT = metrics.recall_score(highCrime, DT_predict)\n",
    "print(\"Recall:\", recall_DT)"
   ]
  },
  {
   "cell_type": "markdown",
   "metadata": {
    "deletable": true,
    "editable": true
   },
   "source": [
    "#### ii.\tWhat are the main features used for classification? Can you explain why they make sense (or not)?"
   ]
  },
  {
   "cell_type": "code",
   "execution_count": 53,
   "metadata": {
    "collapsed": false,
    "deletable": true,
    "editable": true
   },
   "outputs": [
    {
     "data": {
      "text/plain": [
       "[('PctKids2Par', 0.36065507674691555),\n",
       " ('racePctWhite', 0.088816855983709739),\n",
       " ('racePctHisp', 0.045120094562344233),\n",
       " ('PctEmplManu', 0.021210084757928401),\n",
       " ('PctLess9thGrade', 0.018588447232337418),\n",
       " ('PctWOFullPlumb', 0.015579191000074407),\n",
       " ('PctSpeakEnglOnly', 0.013595215174874159),\n",
       " ('PctEmploy', 0.013363970726593479),\n",
       " ('AsianPerCap', 0.013193318522048421),\n",
       " ('MedRent', 0.01308255574884897)]"
      ]
     },
     "execution_count": 53,
     "metadata": {},
     "output_type": "execute_result"
    }
   ],
   "source": [
    "# Importance Features\n",
    "\n",
    "importantFeatures = sorted(zip(df.columns, DT.feature_importances_), key=lambda x: x[1], reverse=True)\n",
    "importantFeatures[:10]"
   ]
  },
  {
   "cell_type": "code",
   "execution_count": 54,
   "metadata": {
    "collapsed": false,
    "deletable": true,
    "editable": true
   },
   "outputs": [
    {
     "data": {
      "text/html": [
       "<div>\n",
       "<table border=\"1\" class=\"dataframe\">\n",
       "  <thead>\n",
       "    <tr style=\"text-align: right;\">\n",
       "      <th></th>\n",
       "      <th>Imp</th>\n",
       "    </tr>\n",
       "  </thead>\n",
       "  <tbody>\n",
       "    <tr>\n",
       "      <th>PctKids2Par</th>\n",
       "      <td>0.360655</td>\n",
       "    </tr>\n",
       "    <tr>\n",
       "      <th>racePctWhite</th>\n",
       "      <td>0.088817</td>\n",
       "    </tr>\n",
       "    <tr>\n",
       "      <th>racePctHisp</th>\n",
       "      <td>0.045120</td>\n",
       "    </tr>\n",
       "    <tr>\n",
       "      <th>PctEmplManu</th>\n",
       "      <td>0.021210</td>\n",
       "    </tr>\n",
       "    <tr>\n",
       "      <th>PctLess9thGrade</th>\n",
       "      <td>0.018588</td>\n",
       "    </tr>\n",
       "    <tr>\n",
       "      <th>PctWOFullPlumb</th>\n",
       "      <td>0.015579</td>\n",
       "    </tr>\n",
       "    <tr>\n",
       "      <th>PctSpeakEnglOnly</th>\n",
       "      <td>0.013595</td>\n",
       "    </tr>\n",
       "    <tr>\n",
       "      <th>PctEmploy</th>\n",
       "      <td>0.013364</td>\n",
       "    </tr>\n",
       "    <tr>\n",
       "      <th>AsianPerCap</th>\n",
       "      <td>0.013193</td>\n",
       "    </tr>\n",
       "    <tr>\n",
       "      <th>MedRent</th>\n",
       "      <td>0.013083</td>\n",
       "    </tr>\n",
       "  </tbody>\n",
       "</table>\n",
       "</div>"
      ],
      "text/plain": [
       "                       Imp\n",
       "PctKids2Par       0.360655\n",
       "racePctWhite      0.088817\n",
       "racePctHisp       0.045120\n",
       "PctEmplManu       0.021210\n",
       "PctLess9thGrade   0.018588\n",
       "PctWOFullPlumb    0.015579\n",
       "PctSpeakEnglOnly  0.013595\n",
       "PctEmploy         0.013364\n",
       "AsianPerCap       0.013193\n",
       "MedRent           0.013083"
      ]
     },
     "execution_count": 54,
     "metadata": {},
     "output_type": "execute_result"
    }
   ],
   "source": [
    "pd.DataFrame(DT.feature_importances_, columns = [\"Imp\"], index = df.columns).sort_values(['Imp'], ascending = False)[:10]"
   ]
  },
  {
   "cell_type": "markdown",
   "metadata": {
    "deletable": true,
    "editable": true
   },
   "source": [
    "Above table reprsent 10 important features for Decision Tree classifier. In scikit learn, variable importance is calculated using Gini impurity. Both the gini and entropy criteria used for node splitting identify best attribute for splitting the node by its ability to split the dataset into subsets with high impurity so that subsequent splitting leads to good classification. The importance of variable is decided by the amount of impurity it can be induced into the split dataset. The decision tree classifier object has a variable called ‘feature_importances_’. We use this variable and create a list of tuples with the feature number and important. The higher the value, the more important the features. "
   ]
  },
  {
   "cell_type": "markdown",
   "metadata": {
    "deletable": true,
    "editable": true
   },
   "source": [
    "#### c.\tNow apply cross-validation (cross_val_score) to do 10-fold cross-validation to estimate the out-of-training accuracy of decision tree learning for this task."
   ]
  },
  {
   "cell_type": "markdown",
   "metadata": {
    "deletable": true,
    "editable": true
   },
   "source": [
    "#### i.What are the 10-fold cross-validation accuracy, precision, and recall?"
   ]
  },
  {
   "cell_type": "code",
   "execution_count": 55,
   "metadata": {
    "collapsed": false,
    "deletable": true,
    "editable": true
   },
   "outputs": [
    {
     "name": "stdout",
     "output_type": "stream",
     "text": [
      "Accuracy:\n",
      " [ 0.745       0.83        0.725       0.73366834  0.64824121  0.66834171\n",
      "  0.72361809  0.68844221  0.77889447  0.71356784]\n",
      "Precision:\n",
      " [ 0.75172414  0.82677165  0.76744186  0.79699248  0.75728155  0.75229358\n",
      "  0.79527559  0.875       0.76712329  0.81034483]\n",
      "Recall:\n",
      " [ 0.864  0.848  0.792  0.824  0.64   0.656  0.832  0.64   0.92   0.744]\n"
     ]
    }
   ],
   "source": [
    "DT2 = tree.DecisionTreeClassifier()\n",
    "\n",
    "# Accuracy\n",
    "accuracy_DT2 = cross_val_score(DT2,df,highCrime[0].values,cv=10, scoring='accuracy')\n",
    "\n",
    "# Preciision\n",
    "precision_DT2 = cross_val_score(DT2,df,highCrime[0].values,cv=10, scoring='precision')\n",
    "\n",
    "# Recall\n",
    "recall_DT2 = cross_val_score(DT2,df,highCrime[0].values,cv=10, scoring='recall')\n",
    "\n",
    "print(\"Accuracy:\\n\", accuracy_DT2)\n",
    "print(\"Precision:\\n\", precision_DT2)\n",
    "print(\"Recall:\\n\", recall_DT2)"
   ]
  },
  {
   "cell_type": "markdown",
   "metadata": {
    "deletable": true,
    "editable": true
   },
   "source": [
    "#### ii.\tWhy are they different from the results in the previous test?"
   ]
  },
  {
   "cell_type": "code",
   "execution_count": 56,
   "metadata": {
    "collapsed": false,
    "deletable": true,
    "editable": true
   },
   "outputs": [
    {
     "name": "stdout",
     "output_type": "stream",
     "text": [
      "Accuracy on full dataset without cross validation:  1.0\n",
      "Accuracy with cross validation:  0.725477386935\n"
     ]
    }
   ],
   "source": [
    "print(\"Accuracy on full dataset without cross validation: \", accuracy_DT)\n",
    "print(\"Accuracy with cross validation: \", accuracy_DT2.mean())"
   ]
  },
  {
   "cell_type": "markdown",
   "metadata": {
    "deletable": true,
    "editable": true
   },
   "source": [
    "Above result display an accuracy of module with and without cross validation.\n",
    "In ‘cross_val_score’ the parameter ‘cv’ specifies the number of folds; the number of partitions that the original dataset is randomly divided into. Normally, only one parameter would be used in cross-validation while remaining used as a training dataset. In 10- fold cross-validation, split the data into 10 parts, train the module on 9 parts and test the accuracy on remaining 1 part. This is repeated on all combinations to produce ten estimates of the accuracy of the model using the current parameter setting. Prevoiusly we train the module on full dataset also test on full dataset, therefore we get more accuracy as compare to to cross validation."
   ]
  },
  {
   "cell_type": "markdown",
   "metadata": {
    "deletable": true,
    "editable": true
   },
   "source": [
    "### 2.\tLinear Classification"
   ]
  },
  {
   "cell_type": "markdown",
   "metadata": {
    "deletable": true,
    "editable": true
   },
   "source": [
    "#### a.\tUse GaussianNB to learn a Naive Bayes classifier to predict highCrime."
   ]
  },
  {
   "cell_type": "markdown",
   "metadata": {
    "deletable": true,
    "editable": true
   },
   "source": [
    "#### i.\tWhat is the 10-fold cross-validation accuracy, precision, and recall for this method?"
   ]
  },
  {
   "cell_type": "code",
   "execution_count": 57,
   "metadata": {
    "collapsed": false,
    "deletable": true,
    "editable": true
   },
   "outputs": [
    {
     "name": "stdout",
     "output_type": "stream",
     "text": [
      "Accuracy:\n",
      " [ 0.775       0.8         0.825       0.79899497  0.70351759  0.65326633\n",
      "  0.81407035  0.73366834  0.71356784  0.79899497]\n",
      "Precision:\n",
      " [ 0.86363636  0.92929293  0.95        0.92079208  0.94594595  0.86842105\n",
      "  0.92307692  1.          0.77868852  0.93814433]\n",
      "Recall\n",
      " [ 0.76   0.736  0.76   0.744  0.56   0.528  0.768  0.576  0.76   0.728]\n"
     ]
    }
   ],
   "source": [
    "# Accuracy\n",
    "\n",
    "GNB = GaussianNB()\n",
    "# Accuracy\n",
    "accuracy_GNB = cross_val_score(GNB,df,highCrime[0].values,cv=10, scoring='accuracy')\n",
    "\n",
    "# Preciision\n",
    "precision_GNB = cross_val_score(GNB,df,highCrime[0].values,cv=10, scoring='precision')\n",
    "\n",
    "# Recall\n",
    "recall_GNB = cross_val_score(GNB,df,highCrime[0].values,cv=10, scoring='recall')\n",
    "\n",
    "print(\"Accuracy:\\n\", accuracy_GNB)\n",
    "print(\"Precision:\\n\", precision_GNB)\n",
    "print(\"Recall\\n\", recall_GNB)"
   ]
  },
  {
   "cell_type": "markdown",
   "metadata": {
    "deletable": true,
    "editable": true
   },
   "source": [
    "#### ii.\tWhat are the 10 most predictive features"
   ]
  },
  {
   "cell_type": "code",
   "execution_count": 58,
   "metadata": {
    "collapsed": true,
    "deletable": true,
    "editable": true
   },
   "outputs": [],
   "source": [
    "# Funtion to measured normalized absolute difference of means for the feature between the two classes\n",
    "\n",
    "def predictive_features(data,highCrime):\n",
    "    true_data = []\n",
    "    false_data = []\n",
    "    res=[]\n",
    "    for i in range(len(highCrime)):\n",
    "        if (highCrime[0].values[i]):\n",
    "            true_data.append(data[i])\n",
    "        else:\n",
    "            false_data.append(data[i])\n",
    "\n",
    "    return abs(np.mean(true_data)-np.mean(false_data))/ (np.std(true_data)+np.std(false_data))"
   ]
  },
  {
   "cell_type": "code",
   "execution_count": 59,
   "metadata": {
    "collapsed": false,
    "deletable": true,
    "editable": true
   },
   "outputs": [
    {
     "data": {
      "text/plain": [
       "[('PctKids2Par', 0.80974842822770576),\n",
       " ('PctFam2Par', 0.74554480821667002),\n",
       " ('racePctWhite', 0.73522995312324224),\n",
       " ('PctIlleg', 0.70926105120057914),\n",
       " ('FemalePctDiv', 0.69397808830331542),\n",
       " ('TotalPctDiv', 0.67464460922247593),\n",
       " ('PctYoungKids2Par', 0.66500856988477031),\n",
       " ('pctWInvInc', 0.66107643266548766),\n",
       " ('PctTeen2Par', 0.64294944817476585),\n",
       " ('MalePctDivorce', 0.61686365922304187)]"
      ]
     },
     "execution_count": 59,
     "metadata": {},
     "output_type": "execute_result"
    }
   ],
   "source": [
    "# Most Predictive Features\n",
    "\n",
    "pf=[]\n",
    "for i in df.columns:\n",
    "    pf.append(predictive_features(df[i],highCrime))\n",
    "\n",
    "\n",
    "importantPredictiveFeatures = sorted(zip(df.columns, pf), key=lambda x: x[1], reverse=True)\n",
    "\n",
    "importantPredictiveFeatures[:10]"
   ]
  },
  {
   "cell_type": "code",
   "execution_count": 60,
   "metadata": {
    "collapsed": false,
    "deletable": true,
    "editable": true
   },
   "outputs": [
    {
     "data": {
      "text/html": [
       "<div>\n",
       "<table border=\"1\" class=\"dataframe\">\n",
       "  <thead>\n",
       "    <tr style=\"text-align: right;\">\n",
       "      <th></th>\n",
       "      <th>Imp</th>\n",
       "    </tr>\n",
       "  </thead>\n",
       "  <tbody>\n",
       "    <tr>\n",
       "      <th>PctKids2Par</th>\n",
       "      <td>0.809748</td>\n",
       "    </tr>\n",
       "    <tr>\n",
       "      <th>PctFam2Par</th>\n",
       "      <td>0.745545</td>\n",
       "    </tr>\n",
       "    <tr>\n",
       "      <th>racePctWhite</th>\n",
       "      <td>0.735230</td>\n",
       "    </tr>\n",
       "    <tr>\n",
       "      <th>PctIlleg</th>\n",
       "      <td>0.709261</td>\n",
       "    </tr>\n",
       "    <tr>\n",
       "      <th>FemalePctDiv</th>\n",
       "      <td>0.693978</td>\n",
       "    </tr>\n",
       "    <tr>\n",
       "      <th>TotalPctDiv</th>\n",
       "      <td>0.674645</td>\n",
       "    </tr>\n",
       "    <tr>\n",
       "      <th>PctYoungKids2Par</th>\n",
       "      <td>0.665009</td>\n",
       "    </tr>\n",
       "    <tr>\n",
       "      <th>pctWInvInc</th>\n",
       "      <td>0.661076</td>\n",
       "    </tr>\n",
       "    <tr>\n",
       "      <th>PctTeen2Par</th>\n",
       "      <td>0.642949</td>\n",
       "    </tr>\n",
       "    <tr>\n",
       "      <th>MalePctDivorce</th>\n",
       "      <td>0.616864</td>\n",
       "    </tr>\n",
       "  </tbody>\n",
       "</table>\n",
       "</div>"
      ],
      "text/plain": [
       "                       Imp\n",
       "PctKids2Par       0.809748\n",
       "PctFam2Par        0.745545\n",
       "racePctWhite      0.735230\n",
       "PctIlleg          0.709261\n",
       "FemalePctDiv      0.693978\n",
       "TotalPctDiv       0.674645\n",
       "PctYoungKids2Par  0.665009\n",
       "pctWInvInc        0.661076\n",
       "PctTeen2Par       0.642949\n",
       "MalePctDivorce    0.616864"
      ]
     },
     "execution_count": 60,
     "metadata": {},
     "output_type": "execute_result"
    }
   ],
   "source": [
    "pd.DataFrame(pf, columns = [\"Imp\"], index = df.columns).sort_values(['Imp'], ascending = False)[:10]"
   ]
  },
  {
   "cell_type": "markdown",
   "metadata": {
    "deletable": true,
    "editable": true
   },
   "source": [
    "Above table reprsent 10 important features for Naive Bayes classifier. Score normalized absolute difference of means for the feature between the two classes:\n",
    "|μ_T-μ_F |/(σ_T+σ_F )\n",
    "The larger this different, the more predictive the feature.\n",
    "We observed that attribute 'PctKids2Par' have larger differene as compare to other attributes.\n"
   ]
  },
  {
   "cell_type": "markdown",
   "metadata": {
    "deletable": true,
    "editable": true
   },
   "source": [
    "#### iii.\tHow do these results compare with your results from decision trees, above?"
   ]
  },
  {
   "cell_type": "code",
   "execution_count": 61,
   "metadata": {
    "collapsed": false,
    "deletable": true,
    "editable": true
   },
   "outputs": [
    {
     "name": "stdout",
     "output_type": "stream",
     "text": [
      "Accuracy of Decision Tree Classifier using cross validation:, 0.725477386935\n",
      "Accuracy of Naive Bayes Classifier using cross validation:  0.761608040201\n"
     ]
    }
   ],
   "source": [
    "print(\"Accuracy of Decision Tree Classifier using cross validation:,\", accuracy_DT2.mean())\n",
    "print(\"Accuracy of Naive Bayes Classifier using cross validation: \", accuracy_GNB.mean())"
   ]
  },
  {
   "cell_type": "markdown",
   "metadata": {
    "deletable": true,
    "editable": true
   },
   "source": [
    "Important Features for Decision Tree Classifier:\n",
    "PctKids2Par, racePctWhite, racePctHisp, PctEmplManu, PctLess9thGrade, PctImmigRec10, MedRent, TotalPctDiv, HousVacant, and PctVacMore6Mos\n",
    "\n",
    "Important Features for Naibe Bayes Classifier:\n",
    "PctKids2Par, PctFam2Par, racePctWhite, PctIlleg, FemalePctDiv , TotalPctDiv, PctYoungKids2Par, pctWInvInc, PctTeen2Par, MalePctDivorce.\n",
    "\n",
    "Above result reprsent accuracy of Decision Tree Classifier and Naive Bayes Classifier using cross validation. For Decision Tree Classifier we get 0.72 accuracy while for Naive Bayes Classifier we get 0.76 accuracy. As a result we conclude that Naive Bayes classifier is more accurate for Crime Dataset as compare to Decision Tree Classifier. "
   ]
  },
  {
   "cell_type": "markdown",
   "metadata": {
    "deletable": true,
    "editable": true
   },
   "source": [
    "#### b.\tUse LinearSVC to learn a linear Support Vector Machine model to predict highCrime."
   ]
  },
  {
   "cell_type": "markdown",
   "metadata": {
    "deletable": true,
    "editable": true
   },
   "source": [
    "#### i.\t What is the 10-fold cross-validation accuracy, precision, and recall for this method?"
   ]
  },
  {
   "cell_type": "code",
   "execution_count": 62,
   "metadata": {
    "collapsed": false,
    "deletable": true,
    "editable": true
   },
   "outputs": [
    {
     "name": "stdout",
     "output_type": "stream",
     "text": [
      "Accuracy: \n",
      " [ 0.79        0.865       0.84        0.80904523  0.69346734  0.69346734\n",
      "  0.81407035  0.8241206   0.81909548  0.81407035]\n",
      "Precision:\n",
      " [ 0.76774194  0.84507042  0.82517483  0.85950413  0.87209302  0.7962963\n",
      "  0.84920635  0.95918367  0.80689655  0.87288136]\n",
      "Recall:\n",
      " [ 0.952  0.96   0.944  0.832  0.6    0.688  0.856  0.752  0.936  0.824]\n"
     ]
    }
   ],
   "source": [
    "LSVC = LinearSVC()\n",
    "\n",
    "# Accuracy\n",
    "accuracy_LSVC = cross_val_score(LSVC,df,highCrime[0].values,cv=10, scoring='accuracy')\n",
    "#Precision\n",
    "precision_LSVC = cross_val_score(LSVC,df,highCrime[0].values,cv=10, scoring='precision')\n",
    "#Recall\n",
    "recall_LSVC = cross_val_score(LSVC,df,highCrime[0].values,cv=10, scoring='recall')\n",
    "\n",
    "print(\"Accuracy: \\n\", accuracy_LSVC)\n",
    "print(\"Precision:\\n\", precision_LSVC)\n",
    "print(\"Recall:\\n\", recall_LSVC)"
   ]
  },
  {
   "cell_type": "markdown",
   "metadata": {
    "deletable": true,
    "editable": true
   },
   "source": [
    "#### ii.\tWhat are the 10 most predictive features? "
   ]
  },
  {
   "cell_type": "code",
   "execution_count": 63,
   "metadata": {
    "collapsed": false,
    "deletable": true,
    "editable": true
   },
   "outputs": [
    {
     "data": {
      "text/plain": [
       "[('pctWInvInc', 1.8884877542117393),\n",
       " ('PersPerOccupHous', 1.7551233612754933),\n",
       " ('racePctWhite', 1.5002191193603012),\n",
       " ('PctKids2Par', 1.190329637772463),\n",
       " ('RentHighQ', 1.0668840652027569),\n",
       " ('MalePctDivorce', 1.0656969335054147),\n",
       " ('NumUnderPov', 1.051548533779963),\n",
       " ('NumStreet', 1.0191558000896355),\n",
       " ('PctOccupMgmtProf', 1.014674118343891),\n",
       " ('population', 1.0023017135991976)]"
      ]
     },
     "execution_count": 63,
     "metadata": {},
     "output_type": "execute_result"
    }
   ],
   "source": [
    "LSVC1 = LinearSVC()\n",
    "LSVC1 =LSVC1.fit(df,highCrime)\n",
    "coef  = abs(LSVC1.coef_)\n",
    "importantPredictiveFeatures = sorted(zip(df.columns, coef[0]), key=lambda x: x[1], reverse=True)\n",
    "\n",
    "importantPredictiveFeatures[:10]"
   ]
  },
  {
   "cell_type": "code",
   "execution_count": 64,
   "metadata": {
    "collapsed": false,
    "deletable": true,
    "editable": true
   },
   "outputs": [
    {
     "data": {
      "text/html": [
       "<div>\n",
       "<table border=\"1\" class=\"dataframe\">\n",
       "  <thead>\n",
       "    <tr style=\"text-align: right;\">\n",
       "      <th></th>\n",
       "      <th>Imp</th>\n",
       "    </tr>\n",
       "  </thead>\n",
       "  <tbody>\n",
       "    <tr>\n",
       "      <th>pctWInvInc</th>\n",
       "      <td>1.888488</td>\n",
       "    </tr>\n",
       "    <tr>\n",
       "      <th>PersPerOccupHous</th>\n",
       "      <td>1.755123</td>\n",
       "    </tr>\n",
       "    <tr>\n",
       "      <th>racePctWhite</th>\n",
       "      <td>1.500219</td>\n",
       "    </tr>\n",
       "    <tr>\n",
       "      <th>PctKids2Par</th>\n",
       "      <td>1.190330</td>\n",
       "    </tr>\n",
       "    <tr>\n",
       "      <th>RentHighQ</th>\n",
       "      <td>1.066884</td>\n",
       "    </tr>\n",
       "    <tr>\n",
       "      <th>MalePctDivorce</th>\n",
       "      <td>1.065697</td>\n",
       "    </tr>\n",
       "    <tr>\n",
       "      <th>NumUnderPov</th>\n",
       "      <td>1.051549</td>\n",
       "    </tr>\n",
       "    <tr>\n",
       "      <th>NumStreet</th>\n",
       "      <td>1.019156</td>\n",
       "    </tr>\n",
       "    <tr>\n",
       "      <th>PctOccupMgmtProf</th>\n",
       "      <td>1.014674</td>\n",
       "    </tr>\n",
       "    <tr>\n",
       "      <th>population</th>\n",
       "      <td>1.002302</td>\n",
       "    </tr>\n",
       "  </tbody>\n",
       "</table>\n",
       "</div>"
      ],
      "text/plain": [
       "                       Imp\n",
       "pctWInvInc        1.888488\n",
       "PersPerOccupHous  1.755123\n",
       "racePctWhite      1.500219\n",
       "PctKids2Par       1.190330\n",
       "RentHighQ         1.066884\n",
       "MalePctDivorce    1.065697\n",
       "NumUnderPov       1.051549\n",
       "NumStreet         1.019156\n",
       "PctOccupMgmtProf  1.014674\n",
       "population        1.002302"
      ]
     },
     "execution_count": 64,
     "metadata": {},
     "output_type": "execute_result"
    }
   ],
   "source": [
    "pd.DataFrame(coef[0], columns = [\"Imp\"], index = df.columns).sort_values(['Imp'], ascending = False)[:10]"
   ]
  },
  {
   "cell_type": "markdown",
   "metadata": {
    "deletable": true,
    "editable": true
   },
   "source": [
    "Above table represent 10 important features for Linear Support Vector Machine model. In lineanr SVM, the result is a hyperplane that separates the classes as best as possible. The weights represent this hyperplane, by giving you the coordinates of a vector which is orthogonal to the hyperplane and and their direction indicates the predicted class. These are the coefficients given by svm.coef_. the absolute size of the coefficient relative to the other ones gives an indication of how important the feature was for the separation"
   ]
  },
  {
   "cell_type": "markdown",
   "metadata": {
    "deletable": true,
    "editable": true
   },
   "source": [
    "#### iii.\tHow do these results compare with your results from decision trees, above?"
   ]
  },
  {
   "cell_type": "code",
   "execution_count": 65,
   "metadata": {
    "collapsed": false,
    "deletable": true,
    "editable": true
   },
   "outputs": [
    {
     "name": "stdout",
     "output_type": "stream",
     "text": [
      "Accuracy of Decision Tree Classifier using cross validation:, 0.725477386935\n",
      "Accuracy of Linear Support Vector Machine model using cross validation:  0.796233668342\n"
     ]
    }
   ],
   "source": [
    "print(\"Accuracy of Decision Tree Classifier using cross validation:,\", accuracy_DT2.mean())\n",
    "print(\"Accuracy of Linear Support Vector Machine model using cross validation: \", accuracy_LSVC.mean())"
   ]
  },
  {
   "cell_type": "markdown",
   "metadata": {
    "deletable": true,
    "editable": true
   },
   "source": [
    "Important Features for Decision Tree Classifier: PctKids2Par, racePctWhite, racePctHisp, PctEmplManu, PctLess9thGrade, PctImmigRec10, MedRent, TotalPctDiv, HousVacant, and PctVacMore6Mos\n",
    "\n",
    "Important Features for Linear Support Vector Machine model : pctWInvInc, PersPerOccupHous, racePctWhite, PctKids2Par, RentHighQ, MalePctDivorce, NumUnderPov, NumStreet, PctOccupMgmtProf, population.\n",
    "\n",
    "Above result reprsent accuracy of Decision Tree Classifier and Linear Support Vector Machine model using cross validation. For Decision Tree Classifier we get 0.72 accuracy while for Linear Support Vector Machine model we get 0.79 accuracy. As a result we conclude that Linear Support Vector Machine model is more accurate for Crime Dataset as compare to Decision Tree Classifier.\n"
   ]
  },
  {
   "cell_type": "markdown",
   "metadata": {
    "deletable": true,
    "editable": true
   },
   "source": [
    "### 3.\tRegression "
   ]
  },
  {
   "cell_type": "markdown",
   "metadata": {
    "deletable": true,
    "editable": true
   },
   "source": [
    "#### a.\tUse LinearRegression to learn a linear model directly predicting the crime rate per capita (ViolentCrimesPerPop)."
   ]
  },
  {
   "cell_type": "markdown",
   "metadata": {
    "deletable": true,
    "editable": true
   },
   "source": [
    "#### i.\tUsing 10-fold cross-validation, what is the estimated mean-squared-error (MSE) of the model?"
   ]
  },
  {
   "cell_type": "code",
   "execution_count": 66,
   "metadata": {
    "collapsed": false,
    "deletable": true,
    "editable": true
   },
   "outputs": [
    {
     "name": "stdout",
     "output_type": "stream",
     "text": [
      "Estimated Mean Squared Error: \n",
      " [-0.11345995 -0.09108316 -0.08759334 -0.17731798 -0.17552054 -0.13612762\n",
      " -0.12124171 -0.14860938 -0.12405162 -0.13615172]\n"
     ]
    }
   ],
   "source": [
    "LR = LinearRegression()\n",
    "mse_LR = cross_val_score(LR, df, highCrime, scoring='neg_mean_squared_error', cv=10)\n",
    "print(\"Estimated Mean Squared Error: \\n\",mse_LR)"
   ]
  },
  {
   "cell_type": "markdown",
   "metadata": {
    "deletable": true,
    "editable": true
   },
   "source": [
    "#### ii.\tWhat is the MSE on the training set (train on all the data then test on it all)?"
   ]
  },
  {
   "cell_type": "code",
   "execution_count": 67,
   "metadata": {
    "collapsed": false,
    "deletable": true,
    "editable": true
   },
   "outputs": [
    {
     "name": "stdout",
     "output_type": "stream",
     "text": [
      "MSE on the training set:  0.115870618337\n"
     ]
    }
   ],
   "source": [
    "LR1 = LinearRegression()\n",
    "LR1 = LR1.fit(df, highCrime)\n",
    "LR1_predict = LR1.predict(df)\n",
    "mse_LR1 = metrics.mean_squared_error(highCrime, LR1_predict)\n",
    "print(\"MSE on the training set: \", mse_LR1)"
   ]
  },
  {
   "cell_type": "markdown",
   "metadata": {
    "deletable": true,
    "editable": true
   },
   "source": [
    "#### iii.\tWhat features are most predictive of a high crime rate? A low crime rate?"
   ]
  },
  {
   "cell_type": "code",
   "execution_count": 68,
   "metadata": {
    "collapsed": false,
    "deletable": true,
    "editable": true
   },
   "outputs": [
    {
     "name": "stdout",
     "output_type": "stream",
     "text": [
      "Most Predictive features for High Crime Rate\n"
     ]
    },
    {
     "data": {
      "text/html": [
       "<div>\n",
       "<table border=\"1\" class=\"dataframe\">\n",
       "  <thead>\n",
       "    <tr style=\"text-align: right;\">\n",
       "      <th></th>\n",
       "      <th>Imp</th>\n",
       "    </tr>\n",
       "  </thead>\n",
       "  <tbody>\n",
       "    <tr>\n",
       "      <th>population</th>\n",
       "      <td>3.928931</td>\n",
       "    </tr>\n",
       "    <tr>\n",
       "      <th>PersPerOccupHous</th>\n",
       "      <td>1.205332</td>\n",
       "    </tr>\n",
       "    <tr>\n",
       "      <th>medFamInc</th>\n",
       "      <td>0.926851</td>\n",
       "    </tr>\n",
       "    <tr>\n",
       "      <th>PctOccupMgmtProf</th>\n",
       "      <td>0.743965</td>\n",
       "    </tr>\n",
       "    <tr>\n",
       "      <th>PctRecImmig8</th>\n",
       "      <td>0.712339</td>\n",
       "    </tr>\n",
       "    <tr>\n",
       "      <th>RentHighQ</th>\n",
       "      <td>0.670068</td>\n",
       "    </tr>\n",
       "    <tr>\n",
       "      <th>MalePctDivorce</th>\n",
       "      <td>0.599113</td>\n",
       "    </tr>\n",
       "    <tr>\n",
       "      <th>PctRecImmig5</th>\n",
       "      <td>0.585687</td>\n",
       "    </tr>\n",
       "    <tr>\n",
       "      <th>PctHousOwnOcc</th>\n",
       "      <td>0.535955</td>\n",
       "    </tr>\n",
       "    <tr>\n",
       "      <th>PctForeignBorn</th>\n",
       "      <td>0.446307</td>\n",
       "    </tr>\n",
       "  </tbody>\n",
       "</table>\n",
       "</div>"
      ],
      "text/plain": [
       "                       Imp\n",
       "population        3.928931\n",
       "PersPerOccupHous  1.205332\n",
       "medFamInc         0.926851\n",
       "PctOccupMgmtProf  0.743965\n",
       "PctRecImmig8      0.712339\n",
       "RentHighQ         0.670068\n",
       "MalePctDivorce    0.599113\n",
       "PctRecImmig5      0.585687\n",
       "PctHousOwnOcc     0.535955\n",
       "PctForeignBorn    0.446307"
      ]
     },
     "execution_count": 68,
     "metadata": {},
     "output_type": "execute_result"
    }
   ],
   "source": [
    "# Most Predictive Features for High Crime Rate\n",
    "\n",
    "coef = LR1.coef_\n",
    "print(\"Most Predictive features for High Crime Rate\")\n",
    "pd.DataFrame(coef[0], columns = [\"Imp\"], index = df.columns).sort_values(['Imp'], ascending = False)[:10]"
   ]
  },
  {
   "cell_type": "code",
   "execution_count": 69,
   "metadata": {
    "collapsed": false,
    "deletable": true,
    "editable": true
   },
   "outputs": [
    {
     "name": "stdout",
     "output_type": "stream",
     "text": [
      "Most Predictive features for Low Crime Rate\n"
     ]
    },
    {
     "data": {
      "text/html": [
       "<div>\n",
       "<table border=\"1\" class=\"dataframe\">\n",
       "  <thead>\n",
       "    <tr style=\"text-align: right;\">\n",
       "      <th></th>\n",
       "      <th>Imp</th>\n",
       "    </tr>\n",
       "  </thead>\n",
       "  <tbody>\n",
       "    <tr>\n",
       "      <th>numbUrban</th>\n",
       "      <td>-2.830579</td>\n",
       "    </tr>\n",
       "    <tr>\n",
       "      <th>PctKids2Par</th>\n",
       "      <td>-1.236463</td>\n",
       "    </tr>\n",
       "    <tr>\n",
       "      <th>PctRecImmig10</th>\n",
       "      <td>-1.213065</td>\n",
       "    </tr>\n",
       "    <tr>\n",
       "      <th>medIncome</th>\n",
       "      <td>-1.011500</td>\n",
       "    </tr>\n",
       "    <tr>\n",
       "      <th>pctWInvInc</th>\n",
       "      <td>-0.946254</td>\n",
       "    </tr>\n",
       "    <tr>\n",
       "      <th>NumIlleg</th>\n",
       "      <td>-0.847100</td>\n",
       "    </tr>\n",
       "    <tr>\n",
       "      <th>TotalPctDiv</th>\n",
       "      <td>-0.651321</td>\n",
       "    </tr>\n",
       "    <tr>\n",
       "      <th>MedRent</th>\n",
       "      <td>-0.583415</td>\n",
       "    </tr>\n",
       "    <tr>\n",
       "      <th>PctRecentImmig</th>\n",
       "      <td>-0.569406</td>\n",
       "    </tr>\n",
       "    <tr>\n",
       "      <th>PctBSorMore</th>\n",
       "      <td>-0.492670</td>\n",
       "    </tr>\n",
       "  </tbody>\n",
       "</table>\n",
       "</div>"
      ],
      "text/plain": [
       "                     Imp\n",
       "numbUrban      -2.830579\n",
       "PctKids2Par    -1.236463\n",
       "PctRecImmig10  -1.213065\n",
       "medIncome      -1.011500\n",
       "pctWInvInc     -0.946254\n",
       "NumIlleg       -0.847100\n",
       "TotalPctDiv    -0.651321\n",
       "MedRent        -0.583415\n",
       "PctRecentImmig -0.569406\n",
       "PctBSorMore    -0.492670"
      ]
     },
     "execution_count": 69,
     "metadata": {},
     "output_type": "execute_result"
    }
   ],
   "source": [
    "# Most Predictive Features for Low Crime Rate\n",
    "\n",
    "coef = LR1.coef_\n",
    "print(\"Most Predictive features for Low Crime Rate\")\n",
    "pd.DataFrame(coef[0], columns = [\"Imp\"], index = df.columns).sort_values(['Imp'], ascending = True)[:10]"
   ]
  },
  {
   "cell_type": "markdown",
   "metadata": {
    "deletable": true,
    "editable": true
   },
   "source": [
    "#### b.\tNow use Ridge regression to reduce the amount of overfitting, using RidgeCV to pick the best alpha from among (10, 1, 0.1, 0.01, and 0.001)."
   ]
  },
  {
   "cell_type": "markdown",
   "metadata": {
    "deletable": true,
    "editable": true
   },
   "source": [
    "#### i.\tWhat is the estimated MSE of the model under 10-fold CV?"
   ]
  },
  {
   "cell_type": "code",
   "execution_count": 70,
   "metadata": {
    "collapsed": false,
    "deletable": true,
    "editable": true
   },
   "outputs": [
    {
     "name": "stdout",
     "output_type": "stream",
     "text": [
      "Estimated MSE of Ridge regression:\n",
      " [-0.11138074 -0.08605617 -0.08722479 -0.17631639 -0.17322247 -0.1345373\n",
      " -0.1207077  -0.14893708 -0.12415638 -0.13974886]\n"
     ]
    }
   ],
   "source": [
    "reg_CV = RidgeCV(alphas= (10, 1, 0.1, 0.01,0.001))\n",
    "mse_reg_CV = cross_val_score(reg_CV, df, highCrime, scoring='neg_mean_squared_error', cv=10)\n",
    "print(\"Estimated MSE of Ridge regression:\\n\", mse_reg_CV)"
   ]
  },
  {
   "cell_type": "markdown",
   "metadata": {
    "deletable": true,
    "editable": true
   },
   "source": [
    "#### ii.\tWhat is the MSE on the training set (train on all the data then test on it all)?"
   ]
  },
  {
   "cell_type": "code",
   "execution_count": 71,
   "metadata": {
    "collapsed": false,
    "deletable": true,
    "editable": true
   },
   "outputs": [
    {
     "name": "stdout",
     "output_type": "stream",
     "text": [
      "MSE on the training set:  0.117714607876\n"
     ]
    }
   ],
   "source": [
    "reg_CV1 = RidgeCV(alphas= (10, 1, 0.1, 0.01,0.001))\n",
    "reg_CV1 = reg_CV1.fit(df, highCrime)\n",
    "reg_CV1_predict = reg_CV1.predict(df)\n",
    "mse_reg_CV1 = metrics.mean_squared_error(highCrime, reg_CV1_predict)\n",
    "print(\"MSE on the training set: \", mse_reg_CV1)"
   ]
  },
  {
   "cell_type": "markdown",
   "metadata": {
    "deletable": true,
    "editable": true
   },
   "source": [
    "#### iii.What is the best alpha?"
   ]
  },
  {
   "cell_type": "code",
   "execution_count": 72,
   "metadata": {
    "collapsed": false,
    "deletable": true,
    "editable": true
   },
   "outputs": [
    {
     "name": "stdout",
     "output_type": "stream",
     "text": [
      "Best alpha:  1.0\n"
     ]
    }
   ],
   "source": [
    "print(\"Best alpha: \",reg_CV1.alpha_)"
   ]
  },
  {
   "cell_type": "markdown",
   "metadata": {
    "deletable": true,
    "editable": true
   },
   "source": [
    "#### iv.\tWhat does this say about the amount of overfitting in linear regression for this problem?"
   ]
  },
  {
   "cell_type": "markdown",
   "metadata": {
    "deletable": true,
    "editable": true
   },
   "source": [
    "As the value of alpha increases, the model complexity reduces. Though higher values of alpha reduce overfitting. \n",
    "With Linear regressin we were overfitting our data. Ridge is more restricted model, so we are less likely to overfit. Increase alpha forces coefficients to move more toward zero, which decrase training set performance but might help generalization. We get best alpha as 1.0 for this model which decrease amount of overfitting. For less alpha like 0.1, 0.01, 0.001 we get more overfitting while alpha like 10 which is grater than 1.0, modules goes to underfitting."
   ]
  },
  {
   "cell_type": "markdown",
   "metadata": {
    "deletable": true,
    "editable": true
   },
   "source": [
    "#### c.\tNow use polynomial features to do quadratic (second-order) polynomial regression."
   ]
  },
  {
   "cell_type": "markdown",
   "metadata": {
    "deletable": true,
    "editable": true
   },
   "source": [
    "#### i.\tWhat is the estimated MSE of the model under 10-fold CV?"
   ]
  },
  {
   "cell_type": "code",
   "execution_count": 73,
   "metadata": {
    "collapsed": false,
    "deletable": true,
    "editable": true
   },
   "outputs": [
    {
     "name": "stdout",
     "output_type": "stream",
     "text": [
      "Estimated MSE of the model Polynomial Features:\n",
      " [-0.92207534 -1.33619384 -1.43839118 -0.90043162 -0.79427617 -1.56116507\n",
      " -0.75643751 -0.80265242 -1.5355196  -1.00684201]\n"
     ]
    }
   ],
   "source": [
    "polynomial_features = PolynomialFeatures(degree=2, include_bias=False)\n",
    "linear_regression = LinearRegression()\n",
    "\n",
    "model = Pipeline([(\"polynomial_features\", polynomial_features),(\"linear_regression\", linear_regression)])\n",
    "\n",
    "model.fit(df,highCrime)\n",
    "\n",
    "mse_model = cross_val_score(model,df,highCrime[0].values, scoring='neg_mean_squared_error',cv=10)\n",
    "\n",
    "print(\"Estimated MSE of the model Polynomial Features:\\n\",mse_model)"
   ]
  },
  {
   "cell_type": "markdown",
   "metadata": {
    "deletable": true,
    "editable": true
   },
   "source": [
    "#### ii.\tWhat is the MSE on the training set (train on all the data then test on it all)?"
   ]
  },
  {
   "cell_type": "code",
   "execution_count": 74,
   "metadata": {
    "collapsed": false,
    "deletable": true,
    "editable": true
   },
   "outputs": [
    {
     "name": "stdout",
     "output_type": "stream",
     "text": [
      "MSE on the training set:  7.46692315599e-28\n"
     ]
    }
   ],
   "source": [
    "polynomial_features = PolynomialFeatures(degree=2, include_bias=False)\n",
    "linear_regression = LinearRegression()\n",
    "model = Pipeline([(\"polynomial_features\", polynomial_features),(\"linear_regression\", linear_regression)])\n",
    "model.fit(df, highCrime)\n",
    "            \n",
    "y_pred = model.predict(df)\n",
    "\n",
    "mse_model1 = metrics.mean_squared_error(highCrime, y_pred)\n",
    "\n",
    "print(\"MSE on the training set: \", mse_model1)"
   ]
  },
  {
   "cell_type": "markdown",
   "metadata": {
    "deletable": true,
    "editable": true
   },
   "source": [
    "#### iii.\tDoes this mean the quadratic model is better than the linear model for this problem?"
   ]
  },
  {
   "cell_type": "code",
   "execution_count": 75,
   "metadata": {
    "collapsed": false,
    "deletable": true,
    "editable": true
   },
   "outputs": [
    {
     "name": "stdout",
     "output_type": "stream",
     "text": [
      "Estimated MSE of the model Polynomial Features: -1.10539847764\n",
      "MSE using LinearRegression:  -0.131115700339\n"
     ]
    }
   ],
   "source": [
    "print(\"Estimated MSE of the model Polynomial Features:\",mse_model.mean())\n",
    "print(\"MSE using LinearRegression: \", mse_LR.mean())"
   ]
  },
  {
   "cell_type": "markdown",
   "metadata": {
    "deletable": true,
    "editable": true
   },
   "source": [
    "Mean square error for Polynomial Features model is -1.1053977578 while for LinearRegression model is -0.131115700339. Small MSE usefull for evaluating the performance of model. From the above result we can conclude that quadratic model is better than the linear model for this problem."
   ]
  },
  {
   "cell_type": "markdown",
   "metadata": {
    "deletable": true,
    "editable": true
   },
   "source": [
    "### 4.\tDirty Data"
   ]
  },
  {
   "cell_type": "code",
   "execution_count": 76,
   "metadata": {
    "collapsed": false,
    "deletable": true,
    "editable": true
   },
   "outputs": [],
   "source": [
    "#load un-clean data\n",
    "\n",
    "df = pd.read_csv(\"Crime Prediction Data\\\\communities-crime-full.csv\")\n",
    "\n",
    "df = df.replace(['?'], [np.nan]) \n",
    "df = df.dropna()"
   ]
  },
  {
   "cell_type": "markdown",
   "metadata": {
    "deletable": true,
    "editable": true
   },
   "source": [
    "### Decision Tree "
   ]
  },
  {
   "cell_type": "markdown",
   "metadata": {
    "deletable": true,
    "editable": true
   },
   "source": [
    "#### a.\tCreate a new field “highCrime” which is true if the crime rate per capita (ViolentCrimesPerPop) is greater than 0.1, and false otherwise. What are the percentage of positive and negative instances in the dataset?"
   ]
  },
  {
   "cell_type": "code",
   "execution_count": 77,
   "metadata": {
    "collapsed": false,
    "deletable": true,
    "editable": true
   },
   "outputs": [
    {
     "name": "stdout",
     "output_type": "stream",
     "text": [
      "Percentage of Positive Instances:  85.36585365853658\n",
      "Percentage of Negative Instances:  14.634146341463413\n"
     ]
    }
   ],
   "source": [
    "# Create a new field “highCrime” which is true if the crime rate per capita (ViolentCrimesPerPop) is greater than 0.1, and false otherwise\n",
    "\n",
    "highCrime = []\n",
    "pos=0\n",
    "neg=0\n",
    "\n",
    "for i in df[\"ViolentCrimesPerPop\"]:\n",
    "    if i > 0.1:\n",
    "        highCrime.append(True)\n",
    "        pos+=1\n",
    "    else:\n",
    "        highCrime.append(False)\n",
    "        neg+=1\n",
    "\n",
    "highCrime = pd.DataFrame(highCrime)\n",
    "\n",
    "# Percentage of positive and negative instances in the dataset\n",
    "\n",
    "#Positive Instances\n",
    "\n",
    "print(\"Percentage of Positive Instances: \", pos/len(highCrime)*100)\n",
    "\n",
    "#Negative Instances\n",
    "\n",
    "print(\"Percentage of Negative Instances: \", neg/len(highCrime)*100)"
   ]
  },
  {
   "cell_type": "markdown",
   "metadata": {
    "deletable": true,
    "editable": true
   },
   "source": [
    "#### b. Use DecisionTreeClassifier to learn a decision tree to predict highCrime on the entire dataset (remember to exclude the crime rate feature from the input feature set so you are not cheating)."
   ]
  },
  {
   "cell_type": "markdown",
   "metadata": {
    "deletable": true,
    "editable": true
   },
   "source": [
    "#### i.\tWhat are the training accuracy, precision, and recall for this tree? "
   ]
  },
  {
   "cell_type": "code",
   "execution_count": 78,
   "metadata": {
    "collapsed": false,
    "deletable": true,
    "editable": true
   },
   "outputs": [
    {
     "name": "stdout",
     "output_type": "stream",
     "text": [
      "Accuracy\n",
      " 1.0\n",
      "Precision\n",
      " 1.0\n",
      "Recall\n",
      " 1.0\n"
     ]
    }
   ],
   "source": [
    "# Remove non predictive attribute\n",
    "\n",
    "df = df.drop([\"state\"], axis=1)\n",
    "df = df.drop([\"county\"], axis=1)\n",
    "df = df.drop([\"community\"], axis=1)\n",
    "df = df.drop([\"communityname\"], axis=1)\n",
    "df = df.drop([\"fold\"], axis=1)\n",
    "df = df.drop([\"ViolentCrimesPerPop\"], axis=1)\n",
    "df = pd.DataFrame(df)\n",
    "\n",
    "# Build Decision Tree Classifier \n",
    "\n",
    "DT = tree.DecisionTreeClassifier()\n",
    "DT = DT.fit(df, highCrime)\n",
    "\n",
    "# Predict class vale for df\n",
    "\n",
    "DT_predict = DT.predict(df)\n",
    "\n",
    "# Accuracy\n",
    "accuracy_DT = metrics.accuracy_score(highCrime, DT_predict)\n",
    "print(\"Accuracy\\n\",accuracy_DT)\n",
    "\n",
    "# Precision\n",
    "precision_DT = metrics.precision_score(highCrime, DT_predict)\n",
    "print(\"Precision\\n\",precision_DT)\n",
    "\n",
    "# Recall\n",
    "recall_DT = metrics.recall_score(highCrime, DT_predict)\n",
    "print(\"Recall\\n\", recall_DT)"
   ]
  },
  {
   "cell_type": "markdown",
   "metadata": {
    "deletable": true,
    "editable": true
   },
   "source": [
    "#### ii.\tWhat are the main features used for classification? Can you explain why they make sense (or not)?"
   ]
  },
  {
   "cell_type": "code",
   "execution_count": 79,
   "metadata": {
    "collapsed": false,
    "deletable": true,
    "editable": true
   },
   "outputs": [
    {
     "data": {
      "text/html": [
       "<div>\n",
       "<table border=\"1\" class=\"dataframe\">\n",
       "  <thead>\n",
       "    <tr style=\"text-align: right;\">\n",
       "      <th></th>\n",
       "      <th>Imp</th>\n",
       "    </tr>\n",
       "  </thead>\n",
       "  <tbody>\n",
       "    <tr>\n",
       "      <th>PctPopUnderPov</th>\n",
       "      <td>0.457390</td>\n",
       "    </tr>\n",
       "    <tr>\n",
       "      <th>PctLargHouseFam</th>\n",
       "      <td>0.160653</td>\n",
       "    </tr>\n",
       "    <tr>\n",
       "      <th>PctImmigRec10</th>\n",
       "      <td>0.097619</td>\n",
       "    </tr>\n",
       "    <tr>\n",
       "      <th>PctVacantBoarded</th>\n",
       "      <td>0.063134</td>\n",
       "    </tr>\n",
       "    <tr>\n",
       "      <th>OwnOccHiQuart</th>\n",
       "      <td>0.059163</td>\n",
       "    </tr>\n",
       "    <tr>\n",
       "      <th>PolicAveOTWorked</th>\n",
       "      <td>0.054233</td>\n",
       "    </tr>\n",
       "    <tr>\n",
       "      <th>pctWPubAsst</th>\n",
       "      <td>0.043386</td>\n",
       "    </tr>\n",
       "    <tr>\n",
       "      <th>MedOwnCostPctIncNoMtg</th>\n",
       "      <td>0.043386</td>\n",
       "    </tr>\n",
       "    <tr>\n",
       "      <th>PctWOFullPlumb</th>\n",
       "      <td>0.021036</td>\n",
       "    </tr>\n",
       "    <tr>\n",
       "      <th>MedRent</th>\n",
       "      <td>0.000000</td>\n",
       "    </tr>\n",
       "  </tbody>\n",
       "</table>\n",
       "</div>"
      ],
      "text/plain": [
       "                            Imp\n",
       "PctPopUnderPov         0.457390\n",
       "PctLargHouseFam        0.160653\n",
       "PctImmigRec10          0.097619\n",
       "PctVacantBoarded       0.063134\n",
       "OwnOccHiQuart          0.059163\n",
       "PolicAveOTWorked       0.054233\n",
       "pctWPubAsst            0.043386\n",
       "MedOwnCostPctIncNoMtg  0.043386\n",
       "PctWOFullPlumb         0.021036\n",
       "MedRent                0.000000"
      ]
     },
     "execution_count": 79,
     "metadata": {},
     "output_type": "execute_result"
    }
   ],
   "source": [
    "pd.DataFrame(DT.feature_importances_, columns = [\"Imp\"], index = df.columns).sort_values(['Imp'], ascending = False)[:10]"
   ]
  },
  {
   "cell_type": "markdown",
   "metadata": {
    "deletable": true,
    "editable": true
   },
   "source": [
    "#### c.\tNow apply cross-validation (cross_val_score) to do 10-fold cross-validation to estimate the out-of-training accuracy of decision tree learning for this task."
   ]
  },
  {
   "cell_type": "markdown",
   "metadata": {
    "deletable": true,
    "editable": true
   },
   "source": [
    "#### i.\tWhat are the 10-fold cross-validation accuracy, precision, and recall?"
   ]
  },
  {
   "cell_type": "code",
   "execution_count": 80,
   "metadata": {
    "collapsed": false,
    "deletable": true,
    "editable": true
   },
   "outputs": [
    {
     "name": "stdout",
     "output_type": "stream",
     "text": [
      "Accuracy\n",
      " [ 0.76923077  0.92307692  0.84615385  0.84615385  0.76923077  0.58333333\n",
      "  0.83333333  0.83333333  0.90909091  0.81818182]\n",
      "Precision\n",
      " [ 0.83333333  0.91666667  1.          1.          1.          0.9         0.9\n",
      "  0.83333333  1.          0.88888889]\n",
      "Recall\n",
      " [ 0.90909091  1.          0.90909091  0.72727273  0.81818182  0.6         0.9\n",
      "  1.          0.8         0.9       ]\n"
     ]
    }
   ],
   "source": [
    "# Accuracy\n",
    "\n",
    "DT2 = tree.DecisionTreeClassifier()\n",
    "accuracy_DT2 = cross_val_score(DT2,df,highCrime[0].values,cv=10, scoring='accuracy')\n",
    "print(\"Accuracy\\n\", accuracy_DT2)\n",
    "\n",
    "#Precision\n",
    "precision_DT2 = cross_val_score(DT2,df,highCrime[0].values,cv=10, scoring='precision')\n",
    "print(\"Precision\\n\", precision_DT2)\n",
    "\n",
    "#Recall\n",
    "recall_DT2 = cross_val_score(DT2,df,highCrime[0].values,cv=10, scoring='recall')\n",
    "print(\"Recall\\n\", recall_DT2)"
   ]
  },
  {
   "cell_type": "markdown",
   "metadata": {
    "deletable": true,
    "editable": true
   },
   "source": [
    "#### ii.\tWhy are they different from the results in the previous test?"
   ]
  },
  {
   "cell_type": "code",
   "execution_count": 81,
   "metadata": {
    "collapsed": false,
    "deletable": true,
    "editable": true
   },
   "outputs": [
    {
     "name": "stdout",
     "output_type": "stream",
     "text": [
      "Accuracy on full dataset without cross validation:  1.0\n",
      "Accuracy with cross validation:  0.813111888112\n"
     ]
    }
   ],
   "source": [
    "print(\"Accuracy on full dataset without cross validation: \", accuracy_DT)\n",
    "print(\"Accuracy with cross validation: \", accuracy_DT2.mean())"
   ]
  },
  {
   "cell_type": "markdown",
   "metadata": {
    "deletable": true,
    "editable": true
   },
   "source": [
    "Above result display an accuracy of module with and without cross validation. In ‘cross_val_score’ the parameter ‘cv’ specifies the number of folds; the number of partitions that the original dataset is randomly divided into. Normally, only one parameter would be used in cross-validation while remaining used as a training dataset. In 10- fold cross-validation, split the data into 10 parts, train the module on 9 parts and test the accuracy on remaining 1 part. This is repeated on all combinations to produce ten estimates of the accuracy of the model using the current parameter setting. Prevoiusly we train the module on full dataset also test on full dataset, therefore we get more accuracy as compare to to cross validation.\n"
   ]
  },
  {
   "cell_type": "markdown",
   "metadata": {
    "deletable": true,
    "editable": true
   },
   "source": [
    "#### a.\tAre the CV results better or worse? What does this say about the effect of missing values?"
   ]
  },
  {
   "cell_type": "markdown",
   "metadata": {
    "deletable": true,
    "editable": true
   },
   "source": [
    "Accuracy of cross validation on clean dataset is 0.72 while on full dataset it is 0.81. Using this accuracy we can conclude, we get better result on full dataset. We using dropna() function for removing missing value. Therefore there is no effect of missing value after droping it from dataset. "
   ]
  },
  {
   "cell_type": "markdown",
   "metadata": {},
   "source": [
    "# Extra Credit"
   ]
  },
  {
   "cell_type": "markdown",
   "metadata": {
    "deletable": true,
    "editable": true
   },
   "source": [
    "### 5.\tTeams "
   ]
  },
  {
   "cell_type": "markdown",
   "metadata": {
    "deletable": true,
    "editable": true
   },
   "source": [
    "#### 5 a i.Experiment with two learning methods other than those described above (one can be a non-linear kernel for SVM) for the classification problem, explaining clearly what you did. Show CV results for both the clean and full datasets.\n"
   ]
  },
  {
   "cell_type": "code",
   "execution_count": 82,
   "metadata": {
    "collapsed": false,
    "deletable": true,
    "editable": true
   },
   "outputs": [
    {
     "name": "stdout",
     "output_type": "stream",
     "text": [
      "Accuracy\n",
      " [ 0.79        0.87        0.88        0.83417085  0.69849246  0.71356784\n",
      "  0.81407035  0.79899497  0.83417085  0.81407035]\n",
      "Recall\n",
      " [ 0.96   0.976  0.952  0.864  0.6    0.672  0.864  0.712  0.928  0.848]\n",
      "Precision\n",
      " [ 0.76433121  0.84137931  0.86861314  0.87096774  0.88235294  0.84        0.84375\n",
      "  0.95698925  0.82857143  0.85483871]\n"
     ]
    }
   ],
   "source": [
    "# Cross Validation for clean data\n",
    "\n",
    "from sklearn import svm\n",
    "\n",
    "df = pd.read_csv(\"Crime Prediction Data\\\\communities-crime-clean.csv\")\n",
    "\n",
    "highCrime = []\n",
    "for i in df[\"ViolentCrimesPerPop\"]:\n",
    "    if i > 0.1:\n",
    "        highCrime.append(True)\n",
    "    else:\n",
    "        highCrime.append(False)\n",
    "highCrime = pd.DataFrame(highCrime)\n",
    "\n",
    "# Drop Non Predictive Column\n",
    "\n",
    "df = df.drop(['state','communityname','fold','ViolentCrimesPerPop'], axis=1)\n",
    "df = pd.DataFrame(df)\n",
    "\n",
    "SVM = svm.SVC(kernel='linear')\n",
    "# SVM = SVM.fit(df,highCrime)\n",
    "Accuracy_svm = cross_val_score(SVM,df,highCrime[0].values,cv=10, scoring='accuracy')\n",
    "Recall_svm = cross_val_score(SVM,df,highCrime[0].values,cv=10, scoring='recall')\n",
    "Precision_svm = cross_val_score(SVM,df,highCrime[0].values,cv=10, scoring='precision')\n",
    "\n",
    "print(\"Accuracy\\n\",Accuracy_svm)\n",
    "print(\"Recall\\n\",Recall_svm)\n",
    "print(\"Precision\\n\",Precision_svm)"
   ]
  },
  {
   "cell_type": "code",
   "execution_count": 83,
   "metadata": {
    "collapsed": false,
    "deletable": true,
    "editable": true
   },
   "outputs": [
    {
     "name": "stdout",
     "output_type": "stream",
     "text": [
      "Most Predictice Features\n"
     ]
    },
    {
     "data": {
      "text/html": [
       "<div>\n",
       "<table border=\"1\" class=\"dataframe\">\n",
       "  <thead>\n",
       "    <tr style=\"text-align: right;\">\n",
       "      <th></th>\n",
       "      <th>Imp</th>\n",
       "    </tr>\n",
       "  </thead>\n",
       "  <tbody>\n",
       "    <tr>\n",
       "      <th>racepctblack</th>\n",
       "      <td>1.720318</td>\n",
       "    </tr>\n",
       "    <tr>\n",
       "      <th>population</th>\n",
       "      <td>1.108645</td>\n",
       "    </tr>\n",
       "    <tr>\n",
       "      <th>MalePctDivorce</th>\n",
       "      <td>1.073579</td>\n",
       "    </tr>\n",
       "    <tr>\n",
       "      <th>PersPerOccupHous</th>\n",
       "      <td>1.027554</td>\n",
       "    </tr>\n",
       "    <tr>\n",
       "      <th>RentHighQ</th>\n",
       "      <td>0.991638</td>\n",
       "    </tr>\n",
       "    <tr>\n",
       "      <th>agePct12t21</th>\n",
       "      <td>0.984430</td>\n",
       "    </tr>\n",
       "    <tr>\n",
       "      <th>racePctHisp</th>\n",
       "      <td>0.841613</td>\n",
       "    </tr>\n",
       "    <tr>\n",
       "      <th>HousVacant</th>\n",
       "      <td>0.769762</td>\n",
       "    </tr>\n",
       "    <tr>\n",
       "      <th>TotalPctDiv</th>\n",
       "      <td>0.768987</td>\n",
       "    </tr>\n",
       "    <tr>\n",
       "      <th>PctOccupMgmtProf</th>\n",
       "      <td>0.749881</td>\n",
       "    </tr>\n",
       "  </tbody>\n",
       "</table>\n",
       "</div>"
      ],
      "text/plain": [
       "                       Imp\n",
       "racepctblack      1.720318\n",
       "population        1.108645\n",
       "MalePctDivorce    1.073579\n",
       "PersPerOccupHous  1.027554\n",
       "RentHighQ         0.991638\n",
       "agePct12t21       0.984430\n",
       "racePctHisp       0.841613\n",
       "HousVacant        0.769762\n",
       "TotalPctDiv       0.768987\n",
       "PctOccupMgmtProf  0.749881"
      ]
     },
     "execution_count": 83,
     "metadata": {},
     "output_type": "execute_result"
    }
   ],
   "source": [
    "print(\"Most Predictice Features\")\n",
    "\n",
    "SVM = SVM.fit(df,highCrime)\n",
    "coef = SVM.coef_\n",
    "pd.DataFrame(coef[0], columns = [\"Imp\"], index = df.columns).sort_values(['Imp'], ascending = False)[:10]"
   ]
  },
  {
   "cell_type": "code",
   "execution_count": 84,
   "metadata": {
    "collapsed": false,
    "deletable": true,
    "editable": true
   },
   "outputs": [
    {
     "name": "stdout",
     "output_type": "stream",
     "text": [
      "Accuracy\n",
      " [ 0.84615385  0.92307692  0.92307692  0.84615385  0.92307692  0.83333333\n",
      "  0.91666667  0.83333333  0.90909091  1.        ]\n",
      "Recall\n",
      " [ 1.          1.          1.          0.90909091  1.          0.8         1.\n",
      "  1.          0.9         1.        ]\n",
      "Precision [ 0.84615385  0.91666667  0.91666667  0.90909091  0.91666667  1.\n",
      "  0.90909091  0.83333333  1.          1.        ]\n"
     ]
    }
   ],
   "source": [
    "# Cross validation for Un-clean data\n",
    "from sklearn import svm\n",
    "#load un-clean data\n",
    "\n",
    "df1 = pd.read_csv(\"Crime Prediction Data\\\\communities-crime-full.csv\")\n",
    "\n",
    "# Data Cleaning\n",
    "\n",
    "df1 = df1.replace('?', np.nan) \n",
    "df1 = df1.dropna()\n",
    "\n",
    "highCrime = []\n",
    "\n",
    "for i in df1[\"ViolentCrimesPerPop\"]:\n",
    "    if i > 0.1:\n",
    "        highCrime.append(True)\n",
    "    else:\n",
    "        highCrime.append(False)\n",
    "\n",
    "highCrime = pd.DataFrame(highCrime)\n",
    "\n",
    "# Drop Non Predictive Column\n",
    "\n",
    "df1 = df1.drop(['state','county','community','communityname','fold','ViolentCrimesPerPop'], axis=1)\n",
    "\n",
    "df1 = pd.DataFrame(df1)\n",
    "\n",
    "SVM = svm.SVC(kernel='linear')\n",
    "# SVM = SVM.fit(df,highCrime)\n",
    "accuracy_svm1 = cross_val_score(SVM,df1,highCrime[0].values,cv=10, scoring='accuracy')\n",
    "print(\"Accuracy\\n\", accuracy_svm1)\n",
    "recall_svm1 = cross_val_score(SVM,df1,highCrime[0].values,cv=10, scoring='recall')\n",
    "print(\"Recall\\n\", recall_svm1)\n",
    "precision_svm1 =  cross_val_score(SVM,df1,highCrime[0].values,cv=10, scoring='precision')\n",
    "print(\"Precision\", precision_svm1)"
   ]
  },
  {
   "cell_type": "code",
   "execution_count": 85,
   "metadata": {
    "collapsed": false,
    "deletable": true,
    "editable": true
   },
   "outputs": [
    {
     "name": "stdout",
     "output_type": "stream",
     "text": [
      "Most Predictice Features\n"
     ]
    },
    {
     "data": {
      "text/html": [
       "<div>\n",
       "<table border=\"1\" class=\"dataframe\">\n",
       "  <thead>\n",
       "    <tr style=\"text-align: right;\">\n",
       "      <th></th>\n",
       "      <th>Imp</th>\n",
       "    </tr>\n",
       "  </thead>\n",
       "  <tbody>\n",
       "    <tr>\n",
       "      <th>NumKindsDrugsSeiz</th>\n",
       "      <td>0.850662</td>\n",
       "    </tr>\n",
       "    <tr>\n",
       "      <th>indianPerCap</th>\n",
       "      <td>0.819572</td>\n",
       "    </tr>\n",
       "    <tr>\n",
       "      <th>PctImmigRec10</th>\n",
       "      <td>0.697390</td>\n",
       "    </tr>\n",
       "    <tr>\n",
       "      <th>PctPolicBlack</th>\n",
       "      <td>0.646270</td>\n",
       "    </tr>\n",
       "    <tr>\n",
       "      <th>racepctblack</th>\n",
       "      <td>0.642598</td>\n",
       "    </tr>\n",
       "    <tr>\n",
       "      <th>PctBornSameState</th>\n",
       "      <td>0.564431</td>\n",
       "    </tr>\n",
       "    <tr>\n",
       "      <th>PctImmigRecent</th>\n",
       "      <td>0.558488</td>\n",
       "    </tr>\n",
       "    <tr>\n",
       "      <th>PctImmigRec5</th>\n",
       "      <td>0.536438</td>\n",
       "    </tr>\n",
       "    <tr>\n",
       "      <th>PctPolicMinor</th>\n",
       "      <td>0.508855</td>\n",
       "    </tr>\n",
       "    <tr>\n",
       "      <th>PctImmigRec8</th>\n",
       "      <td>0.488134</td>\n",
       "    </tr>\n",
       "  </tbody>\n",
       "</table>\n",
       "</div>"
      ],
      "text/plain": [
       "                        Imp\n",
       "NumKindsDrugsSeiz  0.850662\n",
       "indianPerCap       0.819572\n",
       "PctImmigRec10      0.697390\n",
       "PctPolicBlack      0.646270\n",
       "racepctblack       0.642598\n",
       "PctBornSameState   0.564431\n",
       "PctImmigRecent     0.558488\n",
       "PctImmigRec5       0.536438\n",
       "PctPolicMinor      0.508855\n",
       "PctImmigRec8       0.488134"
      ]
     },
     "execution_count": 85,
     "metadata": {},
     "output_type": "execute_result"
    }
   ],
   "source": [
    "print(\"Most Predictice Features\")\n",
    "\n",
    "SVM = SVM.fit(df1,highCrime)\n",
    "coef = SVM.coef_\n",
    "pd.DataFrame(coef[0], columns = [\"Imp\"], index = df1.columns).sort_values(['Imp'], ascending = False)[:10]"
   ]
  },
  {
   "cell_type": "code",
   "execution_count": 86,
   "metadata": {
    "collapsed": false,
    "deletable": true,
    "editable": true
   },
   "outputs": [
    {
     "name": "stdout",
     "output_type": "stream",
     "text": [
      "Accuracy\n",
      " [ 0.715       0.8         0.725       0.63819095  0.67336683  0.70351759\n",
      "  0.80904523  0.84422111  0.83417085  0.7839196 ]\n",
      "Recall\n",
      " [ 0.872  0.984  0.992  0.784  0.568  0.432  0.704  0.56   0.896  0.904]\n",
      "Precision\n",
      " [ 0.73913043  0.68306011  0.94339623  0.79452055  0.89552239  0.88571429\n",
      "  0.8503937   0.6377551   0.90384615  0.85470085]\n"
     ]
    }
   ],
   "source": [
    "# Stochastic Gradient Descent (SGD)\n",
    "# Cross Validation for clean data\n",
    "\n",
    "from sklearn.linear_model import SGDClassifier\n",
    "\n",
    "df = pd.read_csv(\"Crime Prediction Data\\\\communities-crime-clean.csv\")\n",
    "\n",
    "highCrime = []\n",
    "for i in df[\"ViolentCrimesPerPop\"]:\n",
    "    if i > 0.1:\n",
    "        highCrime.append(True)\n",
    "    else:\n",
    "        highCrime.append(False)\n",
    "highCrime = pd.DataFrame(highCrime)\n",
    "\n",
    "# Drop Non Predictive Column\n",
    "\n",
    "df = df.drop(['state','communityname','fold','ViolentCrimesPerPop'], axis=1)\n",
    "df = pd.DataFrame(df)\n",
    "\n",
    "SGD = SGDClassifier()\n",
    "\n",
    "accuracy_sgd = cross_val_score(SGD,df,highCrime[0].values,cv=10, scoring='accuracy')\n",
    "print(\"Accuracy\\n\", accuracy_sgd)\n",
    "recall_sgd = cross_val_score(SGD,df,highCrime[0].values,cv=10, scoring='recall')\n",
    "print(\"Recall\\n\", recall_sgd)\n",
    "precision_sgd =  cross_val_score(SGD,df,highCrime[0].values,cv=10, scoring='precision')\n",
    "print(\"Precision\\n\", precision_sgd)"
   ]
  },
  {
   "cell_type": "code",
   "execution_count": 87,
   "metadata": {
    "collapsed": false,
    "deletable": true,
    "editable": true
   },
   "outputs": [
    {
     "name": "stdout",
     "output_type": "stream",
     "text": [
      "Most Predictice Features\n"
     ]
    },
    {
     "data": {
      "text/html": [
       "<div>\n",
       "<table border=\"1\" class=\"dataframe\">\n",
       "  <thead>\n",
       "    <tr style=\"text-align: right;\">\n",
       "      <th></th>\n",
       "      <th>Imp</th>\n",
       "    </tr>\n",
       "  </thead>\n",
       "  <tbody>\n",
       "    <tr>\n",
       "      <th>racepctblack</th>\n",
       "      <td>19.828530</td>\n",
       "    </tr>\n",
       "    <tr>\n",
       "      <th>MalePctDivorce</th>\n",
       "      <td>9.959869</td>\n",
       "    </tr>\n",
       "    <tr>\n",
       "      <th>TotalPctDiv</th>\n",
       "      <td>9.011310</td>\n",
       "    </tr>\n",
       "    <tr>\n",
       "      <th>PctIlleg</th>\n",
       "      <td>8.774170</td>\n",
       "    </tr>\n",
       "    <tr>\n",
       "      <th>racePctHisp</th>\n",
       "      <td>8.765049</td>\n",
       "    </tr>\n",
       "    <tr>\n",
       "      <th>FemalePctDiv</th>\n",
       "      <td>8.281649</td>\n",
       "    </tr>\n",
       "    <tr>\n",
       "      <th>PctPersDenseHous</th>\n",
       "      <td>8.135717</td>\n",
       "    </tr>\n",
       "    <tr>\n",
       "      <th>RentHighQ</th>\n",
       "      <td>8.008026</td>\n",
       "    </tr>\n",
       "    <tr>\n",
       "      <th>HousVacant</th>\n",
       "      <td>6.539584</td>\n",
       "    </tr>\n",
       "    <tr>\n",
       "      <th>MedRentPctHousInc</th>\n",
       "      <td>6.411893</td>\n",
       "    </tr>\n",
       "  </tbody>\n",
       "</table>\n",
       "</div>"
      ],
      "text/plain": [
       "                         Imp\n",
       "racepctblack       19.828530\n",
       "MalePctDivorce      9.959869\n",
       "TotalPctDiv         9.011310\n",
       "PctIlleg            8.774170\n",
       "racePctHisp         8.765049\n",
       "FemalePctDiv        8.281649\n",
       "PctPersDenseHous    8.135717\n",
       "RentHighQ           8.008026\n",
       "HousVacant          6.539584\n",
       "MedRentPctHousInc   6.411893"
      ]
     },
     "execution_count": 87,
     "metadata": {},
     "output_type": "execute_result"
    }
   ],
   "source": [
    "print(\"Most Predictice Features\")\n",
    "\n",
    "SGD = SGD.fit(df,highCrime)\n",
    "coef = SGD.coef_\n",
    "pd.DataFrame(coef[0], columns = [\"Imp\"], index = df.columns).sort_values(['Imp'], ascending = False)[:10]"
   ]
  },
  {
   "cell_type": "code",
   "execution_count": 88,
   "metadata": {
    "collapsed": false,
    "deletable": true,
    "editable": true
   },
   "outputs": [
    {
     "name": "stdout",
     "output_type": "stream",
     "text": [
      "Accuracy\n",
      " [ 0.84615385  0.92307692  0.92307692  0.92307692  0.92307692  0.91666667\n",
      "  0.83333333  0.75        1.          1.        ]\n",
      "Recall\n",
      " [ 0.63636364  0.81818182  1.          0.81818182  0.90909091  1.          1.\n",
      "  1.          0.9         1.        ]\n",
      "Precision\n",
      " [ 0.84615385  1.          0.91666667  0.84615385  1.          1.\n",
      "  0.83333333  0.81818182  1.          1.        ]\n"
     ]
    }
   ],
   "source": [
    "# Stochastic Gradient Descent (SGD)\n",
    "# Cross validation for Un-clean data\n",
    "\n",
    "from sklearn.linear_model import SGDClassifier\n",
    "\n",
    "#load un-clean data\n",
    "\n",
    "df1 = pd.read_csv(\"Crime Prediction Data\\\\communities-crime-full.csv\")\n",
    "\n",
    "# Data Cleaning\n",
    "\n",
    "df1 = df1.replace('?', np.nan) \n",
    "df1 = df1.dropna()\n",
    "\n",
    "highCrime = []\n",
    "\n",
    "for i in df1[\"ViolentCrimesPerPop\"]:\n",
    "    if i > 0.1:\n",
    "        highCrime.append(True)\n",
    "    else:\n",
    "        highCrime.append(False)\n",
    "\n",
    "highCrime = pd.DataFrame(highCrime)\n",
    "\n",
    "# Drop Non Predictive Column\n",
    "\n",
    "df1 = df1.drop(['state','county','community','communityname','fold','ViolentCrimesPerPop'], axis=1)\n",
    "\n",
    "df1 = pd.DataFrame(df1)\n",
    "\n",
    "SGD = SGDClassifier()\n",
    "\n",
    "accuracy_sgd1 = cross_val_score(SGD,df1,highCrime[0].values,cv=10, scoring='accuracy')\n",
    "print(\"Accuracy\\n\", accuracy_sgd1)\n",
    "recall_sgd1 = cross_val_score(SGD,df1,highCrime[0].values,cv=10, scoring='recall')\n",
    "print(\"Recall\\n\", recall_sgd1)\n",
    "precision_sgd1 =  cross_val_score(SGD,df1,highCrime[0].values,cv=10, scoring='precision')\n",
    "print(\"Precision\\n\", precision_sgd1)"
   ]
  },
  {
   "cell_type": "code",
   "execution_count": 89,
   "metadata": {
    "collapsed": false,
    "deletable": true,
    "editable": true
   },
   "outputs": [
    {
     "name": "stdout",
     "output_type": "stream",
     "text": [
      "Most Predictice Features\n"
     ]
    },
    {
     "data": {
      "text/html": [
       "<div>\n",
       "<table border=\"1\" class=\"dataframe\">\n",
       "  <thead>\n",
       "    <tr style=\"text-align: right;\">\n",
       "      <th></th>\n",
       "      <th>Imp</th>\n",
       "    </tr>\n",
       "  </thead>\n",
       "  <tbody>\n",
       "    <tr>\n",
       "      <th>racepctblack</th>\n",
       "      <td>39.343247</td>\n",
       "    </tr>\n",
       "    <tr>\n",
       "      <th>PctIlleg</th>\n",
       "      <td>34.510533</td>\n",
       "    </tr>\n",
       "    <tr>\n",
       "      <th>PctPolicBlack</th>\n",
       "      <td>25.278810</td>\n",
       "    </tr>\n",
       "    <tr>\n",
       "      <th>PctPolicMinor</th>\n",
       "      <td>23.667906</td>\n",
       "    </tr>\n",
       "    <tr>\n",
       "      <th>LemasGangUnitDeploy</th>\n",
       "      <td>21.685254</td>\n",
       "    </tr>\n",
       "    <tr>\n",
       "      <th>indianPerCap</th>\n",
       "      <td>21.623296</td>\n",
       "    </tr>\n",
       "    <tr>\n",
       "      <th>pctWPubAsst</th>\n",
       "      <td>21.561338</td>\n",
       "    </tr>\n",
       "    <tr>\n",
       "      <th>PctUsePubTrans</th>\n",
       "      <td>20.879802</td>\n",
       "    </tr>\n",
       "    <tr>\n",
       "      <th>PctSameState85</th>\n",
       "      <td>18.215613</td>\n",
       "    </tr>\n",
       "    <tr>\n",
       "      <th>racePctHisp</th>\n",
       "      <td>18.091698</td>\n",
       "    </tr>\n",
       "  </tbody>\n",
       "</table>\n",
       "</div>"
      ],
      "text/plain": [
       "                           Imp\n",
       "racepctblack         39.343247\n",
       "PctIlleg             34.510533\n",
       "PctPolicBlack        25.278810\n",
       "PctPolicMinor        23.667906\n",
       "LemasGangUnitDeploy  21.685254\n",
       "indianPerCap         21.623296\n",
       "pctWPubAsst          21.561338\n",
       "PctUsePubTrans       20.879802\n",
       "PctSameState85       18.215613\n",
       "racePctHisp          18.091698"
      ]
     },
     "execution_count": 89,
     "metadata": {},
     "output_type": "execute_result"
    }
   ],
   "source": [
    "print(\"Most Predictice Features\")\n",
    "\n",
    "SGD = SGD.fit(df1,highCrime)\n",
    "coef = SGD.coef_\n",
    "pd.DataFrame(coef[0], columns = [\"Imp\"], index = df1.columns).sort_values(['Imp'], ascending = False)[:10]"
   ]
  },
  {
   "cell_type": "markdown",
   "metadata": {},
   "source": [
    "#### ii.\tWhat method gives the best results?"
   ]
  },
  {
   "cell_type": "code",
   "execution_count": 90,
   "metadata": {
    "collapsed": false
   },
   "outputs": [
    {
     "name": "stdout",
     "output_type": "stream",
     "text": [
      "Accuracy of SVM model on clean dataset:  0.804753768844\n",
      "Accuracy of SGD model on clean dataset:  0.75264321608\n"
     ]
    }
   ],
   "source": [
    "print(\"Accuracy of SVM model on clean dataset: \", Accuracy_svm.mean())\n",
    "print(\"Accuracy of SGD model on clean dataset: \", accuracy_sgd.mean())"
   ]
  },
  {
   "cell_type": "markdown",
   "metadata": {},
   "source": [
    "Accuracy for SVM model is 0.80 while for SGD model is 0.73. From above result we conclude that SVM model better than SGD model for clean dataset as accuracy for SVM model is greater than SGD model. "
   ]
  },
  {
   "cell_type": "code",
   "execution_count": 91,
   "metadata": {
    "collapsed": false
   },
   "outputs": [
    {
     "name": "stdout",
     "output_type": "stream",
     "text": [
      "Accuracy of SVM model on full dataset:  0.895396270396\n",
      "Accuracy of SGD model on full dataset:  0.903846153846\n"
     ]
    }
   ],
   "source": [
    "print(\"Accuracy of SVM model on full dataset: \", accuracy_svm1.mean())\n",
    "print(\"Accuracy of SGD model on full dataset: \", accuracy_sgd1.mean())"
   ]
  },
  {
   "cell_type": "markdown",
   "metadata": {},
   "source": [
    "Accuracy for SVM model is 0.89 while for SGD model is 0.88. From above result we conclude that SVM model better than SGD model for clean dataset as accuracy for SVM model is greater than SGD model. "
   ]
  },
  {
   "cell_type": "markdown",
   "metadata": {
    "deletable": true,
    "editable": true
   },
   "source": [
    "#### iii.\tWhat feature(s) seem to be most consistently predictive of high crime rates? How reliable is this conclusion?"
   ]
  },
  {
   "cell_type": "markdown",
   "metadata": {},
   "source": [
    "'racepctblack' feature is most consistently predictive of high crime rates as this feature is selected as most predictive features for SVM model and SGD model for both clean and full dataset."
   ]
  },
  {
   "cell_type": "markdown",
   "metadata": {
    "deletable": true,
    "editable": true
   },
   "source": [
    "#### 5 b ii.\tDevise a method to find the most useful threshold for dividing high crime areas from low crime areas (i.e., discretizing XXX to compute highCrime). Define clearly what you mean by “useful”."
   ]
  },
  {
   "cell_type": "markdown",
   "metadata": {},
   "source": [
    "We choose mean as threshold for dividing high crime areas from low crime area as mean is nothing but average value of data which is useful for dividing data more accurately."
   ]
  },
  {
   "cell_type": "markdown",
   "metadata": {},
   "source": [
    "#### iii.\tShow CV results for both the clean and full datasets for at least three different classification methods above."
   ]
  },
  {
   "cell_type": "code",
   "execution_count": 92,
   "metadata": {
    "collapsed": false
   },
   "outputs": [
    {
     "name": "stdout",
     "output_type": "stream",
     "text": [
      "Mean: 0.237982940291\n"
     ]
    }
   ],
   "source": [
    "# Load Clean Dataset\n",
    "df = pd.read_csv(\"Crime Prediction Data\\\\communities-crime-clean.csv\")\n",
    "\n",
    "mean = np.mean(df.ViolentCrimesPerPop)\n",
    "print(\"Mean:\", mean)\n",
    "highCrime = []\n",
    "for i in df[\"ViolentCrimesPerPop\"]:\n",
    "    if i > mean:\n",
    "        highCrime.append(True)\n",
    "    else:\n",
    "        highCrime.append(False)\n",
    "highCrime = pd.DataFrame(highCrime)\n",
    "\n",
    "# Drop Non Predictive Column\n",
    "\n",
    "df = df.drop(['state','communityname','fold','ViolentCrimesPerPop'], axis=1)\n",
    "df = pd.DataFrame(df)"
   ]
  },
  {
   "cell_type": "code",
   "execution_count": 93,
   "metadata": {
    "collapsed": false,
    "deletable": true,
    "editable": true
   },
   "outputs": [
    {
     "name": "stdout",
     "output_type": "stream",
     "text": [
      "Accuracy\n",
      " [ 0.76        0.87        0.825       0.855       0.85        0.76884422\n",
      "  0.8040201   0.87939698  0.71212121  0.86868687]\n",
      "Recall\n",
      " [ 0.73239437  0.76056338  0.76056338  0.70422535  0.71830986  0.56338028\n",
      "  0.69014085  0.81690141  0.71428571  0.8       ]\n",
      "Precision\n",
      " [ 0.64197531  0.85714286  0.75        0.86206897  0.83606557  0.72727273\n",
      "  0.74242424  0.84057971  0.57471264  0.82352941]\n"
     ]
    }
   ],
   "source": [
    "# Linear Classification GaussianNB\n",
    "\n",
    "from sklearn.naive_bayes import GaussianNB\n",
    "\n",
    "GNB = GaussianNB()\n",
    "\n",
    "accuracy1 = cross_val_score(GNB,df,highCrime[0].values,cv=10, scoring='accuracy')\n",
    "print(\"Accuracy\\n\", accuracy1)\n",
    "recall1 = cross_val_score(GNB,df,highCrime[0].values,cv=10, scoring='recall')\n",
    "print(\"Recall\\n\", recall1)\n",
    "precision1 =  cross_val_score(GNB,df,highCrime[0].values,cv=10, scoring='precision')\n",
    "print(\"Precision\\n\", precision1)"
   ]
  },
  {
   "cell_type": "code",
   "execution_count": 94,
   "metadata": {
    "collapsed": false,
    "deletable": true,
    "editable": true
   },
   "outputs": [
    {
     "name": "stdout",
     "output_type": "stream",
     "text": [
      "Accuracy\n",
      " [ 0.705       0.85        0.84        0.855       0.865       0.7638191\n",
      "  0.79899497  0.90954774  0.76262626  0.81313131]\n",
      "Recall\n",
      " [ 0.77464789  0.8028169   0.73239437  0.70422535  0.69014085  0.54929577\n",
      "  0.63380282  0.81690141  0.74285714  0.65714286]\n",
      "Precision\n",
      " [ 0.56122449  0.78082192  0.8         0.86206897  0.90740741  0.72222222\n",
      "  0.76271186  0.92063492  0.64197531  0.77966102]\n"
     ]
    }
   ],
   "source": [
    "# Linear SVC\n",
    "\n",
    "from sklearn.svm import LinearSVC\n",
    "\n",
    "LSVC = LinearSVC()\n",
    "\n",
    "accuracy2 = cross_val_score(LSVC,df,highCrime[0].values,cv=10, scoring='accuracy')\n",
    "print(\"Accuracy\\n\", accuracy2)\n",
    "recall2 = cross_val_score(LSVC,df,highCrime[0].values,cv=10, scoring='recall')\n",
    "print(\"Recall\\n\", recall2)\n",
    "precision2 =  cross_val_score(LSVC,df,highCrime[0].values,cv=10, scoring='precision')\n",
    "print(\"Precision\\n\", precision2)"
   ]
  },
  {
   "cell_type": "code",
   "execution_count": 95,
   "metadata": {
    "collapsed": false,
    "deletable": true,
    "editable": true
   },
   "outputs": [
    {
     "name": "stdout",
     "output_type": "stream",
     "text": [
      "Accuracy\n",
      " [ 0.705       0.795       0.76        0.75        0.79        0.70854271\n",
      "  0.78894472  0.7839196   0.66161616  0.78282828]\n",
      "Recall\n",
      " [ 0.71830986  0.74647887  0.71830986  0.6056338   0.66197183  0.49295775\n",
      "  0.70422535  0.69014085  0.62857143  0.64285714]\n",
      "Precision\n",
      " [ 0.51162791  0.6625      0.68421053  0.66153846  0.68181818  0.61818182\n",
      "  0.63636364  0.734375    0.55696203  0.71212121]\n"
     ]
    }
   ],
   "source": [
    "# Decision Tree Classifier\n",
    "\n",
    "from sklearn import tree\n",
    "\n",
    "DT = tree.DecisionTreeClassifier()\n",
    "\n",
    "accuracy3 = cross_val_score(DT,df,highCrime[0].values,cv=10, scoring='accuracy')\n",
    "print(\"Accuracy\\n\", accuracy3)\n",
    "recall3 = cross_val_score(DT,df,highCrime[0].values,cv=10, scoring='recall')\n",
    "print(\"Recall\\n\", recall3)\n",
    "precision3 =  cross_val_score(DT,df,highCrime[0].values,cv=10, scoring='precision')\n",
    "print(\"Precision\\n\", precision3)"
   ]
  },
  {
   "cell_type": "code",
   "execution_count": 96,
   "metadata": {
    "collapsed": false
   },
   "outputs": [
    {
     "name": "stdout",
     "output_type": "stream",
     "text": [
      "Mean: 0.382520325203\n"
     ]
    }
   ],
   "source": [
    "# Load Unclean Data\n",
    "\n",
    "#load un-clean data\n",
    "\n",
    "df1 = pd.read_csv(\"Crime Prediction Data\\\\communities-crime-full.csv\")\n",
    "\n",
    "# Data Cleaning\n",
    "\n",
    "df1 = df1.replace('?', np.nan) \n",
    "df1 = df1.dropna()\n",
    "\n",
    "highCrime = []\n",
    "mean = np.mean(df1.ViolentCrimesPerPop)\n",
    "print(\"Mean:\", mean)\n",
    "for i in df1[\"ViolentCrimesPerPop\"]:\n",
    "    if i > mean:\n",
    "        highCrime.append(True)\n",
    "    else:\n",
    "        highCrime.append(False)\n",
    "\n",
    "highCrime = pd.DataFrame(highCrime)\n",
    "\n",
    "# Drop Non Predictive Column\n",
    "\n",
    "df1 = df1.drop(['state','county','community','communityname','fold','ViolentCrimesPerPop'], axis=1)\n",
    "\n",
    "df1 = pd.DataFrame(df1)"
   ]
  },
  {
   "cell_type": "code",
   "execution_count": 97,
   "metadata": {
    "collapsed": false
   },
   "outputs": [
    {
     "name": "stdout",
     "output_type": "stream",
     "text": [
      "Accuracy\n",
      " [ 0.76923077  0.92307692  0.84615385  0.91666667  0.91666667  0.83333333\n",
      "  0.83333333  0.66666667  0.91666667  1.        ]\n",
      "Recall\n",
      " [ 0.8  0.8  1.   0.8  0.8  0.8  0.6  0.8  1.   1. ]\n",
      "Precision\n",
      " [ 0.66666667  1.          0.71428571  1.          1.          0.8         1.\n",
      "  0.57142857  0.83333333  1.        ]\n"
     ]
    }
   ],
   "source": [
    "# Linear Classification GaussianNB\n",
    "\n",
    "from sklearn.naive_bayes import GaussianNB\n",
    "\n",
    "GNB = GaussianNB()\n",
    "\n",
    "accuracy4 = cross_val_score(GNB,df1,highCrime[0].values,cv=10, scoring='accuracy')\n",
    "print(\"Accuracy\\n\", accuracy4)\n",
    "recall4 = cross_val_score(GNB,df1,highCrime[0].values,cv=10, scoring='recall')\n",
    "print(\"Recall\\n\", recall4)\n",
    "precision4 =  cross_val_score(GNB,df1,highCrime[0].values,cv=10, scoring='precision')\n",
    "print(\"Precision\\n\", precision4)"
   ]
  },
  {
   "cell_type": "code",
   "execution_count": 98,
   "metadata": {
    "collapsed": false
   },
   "outputs": [
    {
     "name": "stdout",
     "output_type": "stream",
     "text": [
      "Accuracy\n",
      " [ 0.76923077  0.84615385  0.92307692  0.75        1.          0.75\n",
      "  0.83333333  0.75        0.83333333  1.        ]\n",
      "Recall\n",
      " [ 0.6  0.8  0.8  1.   1.   0.6  0.6  0.6  0.6  1. ]\n",
      "Precision\n",
      " [ 0.75   0.8    1.     0.625  1.     0.75   1.     0.75   1.     1.   ]\n"
     ]
    }
   ],
   "source": [
    "# Linear SVC\n",
    "\n",
    "from sklearn.svm import LinearSVC\n",
    "\n",
    "LSVC = LinearSVC()\n",
    "\n",
    "accuracy5 = cross_val_score(LSVC,df1,highCrime[0].values,cv=10, scoring='accuracy')\n",
    "print(\"Accuracy\\n\", accuracy5)\n",
    "recall5 = cross_val_score(LSVC,df1,highCrime[0].values,cv=10, scoring='recall')\n",
    "print(\"Recall\\n\", recall5)\n",
    "precision5 =  cross_val_score(LSVC,df1,highCrime[0].values,cv=10, scoring='precision')\n",
    "print(\"Precision\\n\", precision5)"
   ]
  },
  {
   "cell_type": "code",
   "execution_count": 99,
   "metadata": {
    "collapsed": false
   },
   "outputs": [
    {
     "name": "stdout",
     "output_type": "stream",
     "text": [
      "Accuracy\n",
      " [ 0.69230769  0.76923077  0.92307692  0.75        0.91666667  0.5\n",
      "  0.66666667  0.83333333  0.75        0.83333333]\n",
      "Recall\n",
      " [ 0.6  0.8  0.8  1.   1.   0.6  0.4  0.6  0.8  1. ]\n",
      "Precision\n",
      " [ 0.75        0.8         1.          0.625       0.83333333  0.6         0.75\n",
      "  1.          0.57142857  0.8       ]\n"
     ]
    }
   ],
   "source": [
    "# Decision Tree Classifier\n",
    "\n",
    "from sklearn import tree\n",
    "\n",
    "DT = tree.DecisionTreeClassifier()\n",
    "\n",
    "accuracy6 = cross_val_score(DT,df1,highCrime[0].values,cv=10, scoring='accuracy')\n",
    "print(\"Accuracy\\n\", accuracy6)\n",
    "recall6 = cross_val_score(DT,df1,highCrime[0].values,cv=10, scoring='recall')\n",
    "print(\"Recall\\n\", recall6)\n",
    "precision6 =  cross_val_score(DT,df1,highCrime[0].values,cv=10, scoring='precision')\n",
    "print(\"Precision\\n\", precision6)"
   ]
  },
  {
   "cell_type": "markdown",
   "metadata": {},
   "source": [
    "#### iv.\tHow are these results similar and different from the previous results (with a fixed threshold of 0.1). What does this say about how to approach such a problem."
   ]
  },
  {
   "cell_type": "code",
   "execution_count": 100,
   "metadata": {
    "collapsed": false
   },
   "outputs": [
    {
     "name": "stdout",
     "output_type": "stream",
     "text": [
      "Accuracy for Naive Bayes classifier on Clean Dataset:  0.819306938734\n",
      "Accuracy for Linear SVC classifier on Clean Dataset:  0.81631193848\n",
      "Accuracy for Decision Tree classifier on Clean Dataset:  0.752585147962\n",
      "Accuracy for Naive Bayes classifier on Full Dataset:  0.862179487179\n",
      "Accuracy for Linear SVC classifier on Full Dataset:  0.845512820513\n",
      "Accuracy for Decision Tree classifier on Full Dataset:  0.763461538462\n"
     ]
    }
   ],
   "source": [
    "print(\"Accuracy for Naive Bayes classifier on Clean Dataset: \", accuracy1.mean())\n",
    "print(\"Accuracy for Linear SVC classifier on Clean Dataset: \", accuracy2.mean())\n",
    "print(\"Accuracy for Decision Tree classifier on Clean Dataset: \", accuracy3.mean())\n",
    "\n",
    "print(\"Accuracy for Naive Bayes classifier on Full Dataset: \", accuracy4.mean())\n",
    "print(\"Accuracy for Linear SVC classifier on Full Dataset: \", accuracy5.mean())\n",
    "print(\"Accuracy for Decision Tree classifier on Full Dataset: \", accuracy6.mean())"
   ]
  },
  {
   "cell_type": "markdown",
   "metadata": {},
   "source": [
    "Above result represent accuracy of different classifier using mean as threshold on clean and full dataset. We observed that result is different from previous result with threshold value 0.1. Therefore for suc problem we can used mean as threshold for getting more accurate result "
   ]
  },
  {
   "cell_type": "markdown",
   "metadata": {
    "deletable": true,
    "editable": true
   },
   "source": [
    "### 6"
   ]
  },
  {
   "cell_type": "markdown",
   "metadata": {
    "deletable": true,
    "editable": true
   },
   "source": [
    "#### b.\tExperiment with other learning "
   ]
  },
  {
   "cell_type": "markdown",
   "metadata": {
    "deletable": true,
    "editable": true
   },
   "source": [
    "Random Forest Classifier"
   ]
  },
  {
   "cell_type": "code",
   "execution_count": 101,
   "metadata": {
    "collapsed": false,
    "deletable": true,
    "editable": true
   },
   "outputs": [
    {
     "name": "stdout",
     "output_type": "stream",
     "text": [
      "Accuracy\n",
      " [ 0.76        0.855       0.875       0.8040201   0.67336683  0.67839196\n",
      "  0.81909548  0.7638191   0.79899497  0.77889447]\n",
      "Recall\n",
      " [ 0.896  0.904  0.872  0.872  0.648  0.632  0.848  0.664  0.912  0.864]\n",
      "Precision\n",
      " [ 0.78        0.89344262  0.87301587  0.8515625   0.86363636  0.84536082\n",
      "  0.83464567  0.93814433  0.79020979  0.82786885]\n"
     ]
    }
   ],
   "source": [
    "# A random forest classifier.\n",
    "# Cross Validation for clean data\n",
    "\n",
    "from sklearn.ensemble import RandomForestClassifier\n",
    "\n",
    "df = pd.read_csv(\"Crime Prediction Data\\\\communities-crime-clean.csv\")\n",
    "\n",
    "highCrime = []\n",
    "for i in df[\"ViolentCrimesPerPop\"]:\n",
    "    if i > 0.1:\n",
    "        highCrime.append(True)\n",
    "    else:\n",
    "        highCrime.append(False)\n",
    "highCrime = pd.DataFrame(highCrime)\n",
    "\n",
    "# Drop Non Predictive Column\n",
    "\n",
    "df = df.drop(['state','communityname','fold','ViolentCrimesPerPop'], axis=1)\n",
    "df = pd.DataFrame(df)\n",
    "\n",
    "RFC = RandomForestClassifier()\n",
    "\n",
    "accuracy1 = cross_val_score(RFC,df,highCrime[0].values,cv=10, scoring='accuracy')\n",
    "recall1 = cross_val_score(RFC,df,highCrime[0].values,cv=10, scoring='recall')\n",
    "precision1 = cross_val_score(RFC,df,highCrime[0].values,cv=10, scoring='precision')\n",
    "\n",
    "print(\"Accuracy\\n\",accuracy1)\n",
    "print(\"Recall\\n\",recall1)\n",
    "print(\"Precision\\n\",precision1)"
   ]
  },
  {
   "cell_type": "code",
   "execution_count": 102,
   "metadata": {
    "collapsed": false,
    "deletable": true,
    "editable": true
   },
   "outputs": [
    {
     "name": "stdout",
     "output_type": "stream",
     "text": [
      "Most Predictice Features\n"
     ]
    },
    {
     "data": {
      "text/html": [
       "<div>\n",
       "<table border=\"1\" class=\"dataframe\">\n",
       "  <thead>\n",
       "    <tr style=\"text-align: right;\">\n",
       "      <th></th>\n",
       "      <th>Imp</th>\n",
       "    </tr>\n",
       "  </thead>\n",
       "  <tbody>\n",
       "    <tr>\n",
       "      <th>PctFam2Par</th>\n",
       "      <td>0.074283</td>\n",
       "    </tr>\n",
       "    <tr>\n",
       "      <th>PctKids2Par</th>\n",
       "      <td>0.062140</td>\n",
       "    </tr>\n",
       "    <tr>\n",
       "      <th>NumIlleg</th>\n",
       "      <td>0.058762</td>\n",
       "    </tr>\n",
       "    <tr>\n",
       "      <th>MalePctDivorce</th>\n",
       "      <td>0.038966</td>\n",
       "    </tr>\n",
       "    <tr>\n",
       "      <th>TotalPctDiv</th>\n",
       "      <td>0.038787</td>\n",
       "    </tr>\n",
       "    <tr>\n",
       "      <th>NumUnderPov</th>\n",
       "      <td>0.035059</td>\n",
       "    </tr>\n",
       "    <tr>\n",
       "      <th>pctWInvInc</th>\n",
       "      <td>0.035006</td>\n",
       "    </tr>\n",
       "    <tr>\n",
       "      <th>FemalePctDiv</th>\n",
       "      <td>0.030556</td>\n",
       "    </tr>\n",
       "    <tr>\n",
       "      <th>racePctWhite</th>\n",
       "      <td>0.027879</td>\n",
       "    </tr>\n",
       "    <tr>\n",
       "      <th>PctIlleg</th>\n",
       "      <td>0.025046</td>\n",
       "    </tr>\n",
       "  </tbody>\n",
       "</table>\n",
       "</div>"
      ],
      "text/plain": [
       "                     Imp\n",
       "PctFam2Par      0.074283\n",
       "PctKids2Par     0.062140\n",
       "NumIlleg        0.058762\n",
       "MalePctDivorce  0.038966\n",
       "TotalPctDiv     0.038787\n",
       "NumUnderPov     0.035059\n",
       "pctWInvInc      0.035006\n",
       "FemalePctDiv    0.030556\n",
       "racePctWhite    0.027879\n",
       "PctIlleg        0.025046"
      ]
     },
     "execution_count": 102,
     "metadata": {},
     "output_type": "execute_result"
    }
   ],
   "source": [
    "print(\"Most Predictice Features\")\n",
    "\n",
    "RFC = RFC.fit(df,highCrime)\n",
    "pd.DataFrame(RFC.feature_importances_, columns = [\"Imp\"], index = df.columns).sort_values(['Imp'], ascending = False)[:10]"
   ]
  },
  {
   "cell_type": "code",
   "execution_count": 103,
   "metadata": {
    "collapsed": false,
    "deletable": true,
    "editable": true
   },
   "outputs": [
    {
     "name": "stdout",
     "output_type": "stream",
     "text": [
      "Accuracy\n",
      " [ 0.76923077  0.92307692  0.92307692  0.84615385  0.84615385  0.83333333\n",
      "  0.83333333  0.83333333  0.90909091  0.90909091]\n",
      "Recall\n",
      " [ 0.90909091  1.          1.          0.90909091  0.81818182  0.7         1.\n",
      "  1.          1.          1.        ]\n",
      "Precision [ 0.83333333  0.91666667  0.91666667  1.          0.9         1.\n",
      "  0.83333333  0.83333333  1.          1.        ]\n"
     ]
    }
   ],
   "source": [
    "# A randon forest classifier\n",
    "# Cross validation for Un-clean data\n",
    "from sklearn.ensemble import RandomForestClassifier\n",
    "\n",
    "#load un-clean data\n",
    "\n",
    "df1 = pd.read_csv(\"Crime Prediction Data\\\\communities-crime-full.csv\")\n",
    "\n",
    "# Data Cleaning\n",
    "\n",
    "df1 = df1.replace('?', np.nan) \n",
    "df1 = df1.dropna()\n",
    "\n",
    "highCrime = []\n",
    "\n",
    "for i in df1[\"ViolentCrimesPerPop\"]:\n",
    "    if i > 0.1:\n",
    "        highCrime.append(True)\n",
    "    else:\n",
    "        highCrime.append(False)\n",
    "\n",
    "highCrime = pd.DataFrame(highCrime)\n",
    "\n",
    "# Drop Non Predictive Column\n",
    "\n",
    "df1 = df1.drop(['state','county','community','communityname','fold','ViolentCrimesPerPop'], axis=1)\n",
    "\n",
    "df1 = pd.DataFrame(df1)\n",
    "\n",
    "RFC = RandomForestClassifier()\n",
    "\n",
    "accuracy2 = cross_val_score(RFC,df1,highCrime[0].values,cv=10, scoring='accuracy')\n",
    "print(\"Accuracy\\n\", accuracy2)\n",
    "recall2 = cross_val_score(RFC,df1,highCrime[0].values,cv=10, scoring='recall')\n",
    "print(\"Recall\\n\", recall2)\n",
    "precision2 =  cross_val_score(RFC,df1,highCrime[0].values,cv=10, scoring='precision')\n",
    "print(\"Precision\", precision2)"
   ]
  },
  {
   "cell_type": "code",
   "execution_count": 104,
   "metadata": {
    "collapsed": false,
    "deletable": true,
    "editable": true
   },
   "outputs": [
    {
     "name": "stdout",
     "output_type": "stream",
     "text": [
      "Most Predictice Features\n"
     ]
    },
    {
     "data": {
      "text/html": [
       "<div>\n",
       "<table border=\"1\" class=\"dataframe\">\n",
       "  <thead>\n",
       "    <tr style=\"text-align: right;\">\n",
       "      <th></th>\n",
       "      <th>Imp</th>\n",
       "    </tr>\n",
       "  </thead>\n",
       "  <tbody>\n",
       "    <tr>\n",
       "      <th>PctPopUnderPov</th>\n",
       "      <td>0.150533</td>\n",
       "    </tr>\n",
       "    <tr>\n",
       "      <th>NumUnderPov</th>\n",
       "      <td>0.066847</td>\n",
       "    </tr>\n",
       "    <tr>\n",
       "      <th>PctFam2Par</th>\n",
       "      <td>0.054713</td>\n",
       "    </tr>\n",
       "    <tr>\n",
       "      <th>PctPolicMinor</th>\n",
       "      <td>0.051236</td>\n",
       "    </tr>\n",
       "    <tr>\n",
       "      <th>racePctWhite</th>\n",
       "      <td>0.051069</td>\n",
       "    </tr>\n",
       "    <tr>\n",
       "      <th>NumIlleg</th>\n",
       "      <td>0.046379</td>\n",
       "    </tr>\n",
       "    <tr>\n",
       "      <th>racepctblack</th>\n",
       "      <td>0.045209</td>\n",
       "    </tr>\n",
       "    <tr>\n",
       "      <th>PctBSorMore</th>\n",
       "      <td>0.039521</td>\n",
       "    </tr>\n",
       "    <tr>\n",
       "      <th>MalePctDivorce</th>\n",
       "      <td>0.033697</td>\n",
       "    </tr>\n",
       "    <tr>\n",
       "      <th>PolicPerPop</th>\n",
       "      <td>0.029943</td>\n",
       "    </tr>\n",
       "  </tbody>\n",
       "</table>\n",
       "</div>"
      ],
      "text/plain": [
       "                     Imp\n",
       "PctPopUnderPov  0.150533\n",
       "NumUnderPov     0.066847\n",
       "PctFam2Par      0.054713\n",
       "PctPolicMinor   0.051236\n",
       "racePctWhite    0.051069\n",
       "NumIlleg        0.046379\n",
       "racepctblack    0.045209\n",
       "PctBSorMore     0.039521\n",
       "MalePctDivorce  0.033697\n",
       "PolicPerPop     0.029943"
      ]
     },
     "execution_count": 104,
     "metadata": {},
     "output_type": "execute_result"
    }
   ],
   "source": [
    "print(\"Most Predictice Features\")\n",
    "\n",
    "RFC = RFC.fit(df1,highCrime)\n",
    "pd.DataFrame(RFC.feature_importances_, columns = [\"Imp\"], index = df1.columns).sort_values(['Imp'], ascending = False)[:10]"
   ]
  },
  {
   "cell_type": "markdown",
   "metadata": {},
   "source": [
    "An AdaBoost Classifier"
   ]
  },
  {
   "cell_type": "code",
   "execution_count": 105,
   "metadata": {
    "collapsed": false,
    "deletable": true,
    "editable": true
   },
   "outputs": [
    {
     "name": "stdout",
     "output_type": "stream",
     "text": [
      "Accuracy\n",
      " [ 0.8         0.825       0.865       0.79396985  0.69849246  0.69849246\n",
      "  0.80904523  0.77386935  0.76884422  0.79396985]\n",
      "Recall\n",
      " [ 0.96   0.912  0.896  0.848  0.632  0.672  0.912  0.664  0.888  0.832]\n",
      "Precision\n",
      " [ 0.77419355  0.82608696  0.88888889  0.828125    0.84946237  0.81553398\n",
      "  0.80851064  0.96511628  0.77622378  0.83870968]\n"
     ]
    }
   ],
   "source": [
    "# An AdaBoost classifier.\n",
    "# Cross Validation for clean data\n",
    "\n",
    "from sklearn.ensemble import AdaBoostClassifier\n",
    "\n",
    "df = pd.read_csv(\"Crime Prediction Data\\\\communities-crime-clean.csv\")\n",
    "\n",
    "highCrime = []\n",
    "for i in df[\"ViolentCrimesPerPop\"]:\n",
    "    if i > 0.1:\n",
    "        highCrime.append(True)\n",
    "    else:\n",
    "        highCrime.append(False)\n",
    "highCrime = pd.DataFrame(highCrime)\n",
    "\n",
    "# Drop Non Predictive Column\n",
    "\n",
    "df = df.drop(['state','communityname','fold','ViolentCrimesPerPop'], axis=1)\n",
    "df = pd.DataFrame(df)\n",
    "\n",
    "ABC = AdaBoostClassifier()\n",
    "\n",
    "accuracy3 = cross_val_score(ABC,df,highCrime[0].values,cv=10, scoring='accuracy')\n",
    "recall3 = cross_val_score(ABC,df,highCrime[0].values,cv=10, scoring='recall')\n",
    "precision3 = cross_val_score(ABC,df,highCrime[0].values,cv=10, scoring='precision')\n",
    "\n",
    "print(\"Accuracy\\n\",accuracy3)\n",
    "print(\"Recall\\n\",recall3)\n",
    "print(\"Precision\\n\",precision3)"
   ]
  },
  {
   "cell_type": "code",
   "execution_count": 106,
   "metadata": {
    "collapsed": false,
    "deletable": true,
    "editable": true
   },
   "outputs": [
    {
     "name": "stdout",
     "output_type": "stream",
     "text": [
      "Most Predictice Features\n"
     ]
    },
    {
     "data": {
      "text/html": [
       "<div>\n",
       "<table border=\"1\" class=\"dataframe\">\n",
       "  <thead>\n",
       "    <tr style=\"text-align: right;\">\n",
       "      <th></th>\n",
       "      <th>Imp</th>\n",
       "    </tr>\n",
       "  </thead>\n",
       "  <tbody>\n",
       "    <tr>\n",
       "      <th>racePctWhite</th>\n",
       "      <td>0.12</td>\n",
       "    </tr>\n",
       "    <tr>\n",
       "      <th>PctKids2Par</th>\n",
       "      <td>0.10</td>\n",
       "    </tr>\n",
       "    <tr>\n",
       "      <th>TotalPctDiv</th>\n",
       "      <td>0.06</td>\n",
       "    </tr>\n",
       "    <tr>\n",
       "      <th>PctHousNoPhone</th>\n",
       "      <td>0.06</td>\n",
       "    </tr>\n",
       "    <tr>\n",
       "      <th>LandArea</th>\n",
       "      <td>0.04</td>\n",
       "    </tr>\n",
       "    <tr>\n",
       "      <th>agePct12t21</th>\n",
       "      <td>0.04</td>\n",
       "    </tr>\n",
       "    <tr>\n",
       "      <th>PctTeen2Par</th>\n",
       "      <td>0.04</td>\n",
       "    </tr>\n",
       "    <tr>\n",
       "      <th>pctWInvInc</th>\n",
       "      <td>0.04</td>\n",
       "    </tr>\n",
       "    <tr>\n",
       "      <th>population</th>\n",
       "      <td>0.02</td>\n",
       "    </tr>\n",
       "    <tr>\n",
       "      <th>PctImmigRec5</th>\n",
       "      <td>0.02</td>\n",
       "    </tr>\n",
       "  </tbody>\n",
       "</table>\n",
       "</div>"
      ],
      "text/plain": [
       "                 Imp\n",
       "racePctWhite    0.12\n",
       "PctKids2Par     0.10\n",
       "TotalPctDiv     0.06\n",
       "PctHousNoPhone  0.06\n",
       "LandArea        0.04\n",
       "agePct12t21     0.04\n",
       "PctTeen2Par     0.04\n",
       "pctWInvInc      0.04\n",
       "population      0.02\n",
       "PctImmigRec5    0.02"
      ]
     },
     "execution_count": 106,
     "metadata": {},
     "output_type": "execute_result"
    }
   ],
   "source": [
    "print(\"Most Predictice Features\")\n",
    "\n",
    "ABC = ABC.fit(df,highCrime)\n",
    "pd.DataFrame(ABC.feature_importances_, columns = [\"Imp\"], index = df.columns).sort_values(['Imp'], ascending = False)[:10]"
   ]
  },
  {
   "cell_type": "code",
   "execution_count": 107,
   "metadata": {
    "collapsed": false,
    "deletable": true,
    "editable": true
   },
   "outputs": [
    {
     "name": "stdout",
     "output_type": "stream",
     "text": [
      "Accuracy\n",
      " [ 0.69230769  0.92307692  0.92307692  0.76923077  0.84615385  0.83333333\n",
      "  0.83333333  0.91666667  0.90909091  0.90909091]\n",
      "Recall\n",
      " [ 0.81818182  1.          1.          0.90909091  0.90909091  0.8         0.9\n",
      "  1.          0.9         1.        ]\n",
      "Precision [ 0.81818182  0.91666667  0.91666667  0.83333333  0.90909091  1.          0.9\n",
      "  0.90909091  1.          0.90909091]\n"
     ]
    }
   ],
   "source": [
    "# An ADA Boost Classifier\n",
    "# Cross validation for Un-clean data\n",
    "from sklearn.ensemble import AdaBoostClassifier\n",
    "\n",
    "#load un-clean data\n",
    "\n",
    "df1 = pd.read_csv(\"Crime Prediction Data\\\\communities-crime-full.csv\")\n",
    "\n",
    "# Data Cleaning\n",
    "\n",
    "df1 = df1.replace('?', np.nan) \n",
    "df1 = df1.dropna()\n",
    "\n",
    "highCrime = []\n",
    "\n",
    "for i in df1[\"ViolentCrimesPerPop\"]:\n",
    "    if i > 0.1:\n",
    "        highCrime.append(True)\n",
    "    else:\n",
    "        highCrime.append(False)\n",
    "\n",
    "highCrime = pd.DataFrame(highCrime)\n",
    "\n",
    "# Drop Non Predictive Column\n",
    "\n",
    "df1 = df1.drop(['state','county','community','communityname','fold','ViolentCrimesPerPop'], axis=1)\n",
    "\n",
    "df1 = pd.DataFrame(df1)\n",
    "\n",
    "ABC = AdaBoostClassifier()\n",
    "\n",
    "accuracy4 = cross_val_score(ABC,df1,highCrime[0].values,cv=10, scoring='accuracy')\n",
    "print(\"Accuracy\\n\", accuracy4)\n",
    "recall4 = cross_val_score(ABC,df1,highCrime[0].values,cv=10, scoring='recall')\n",
    "print(\"Recall\\n\", recall4)\n",
    "precision4 =  cross_val_score(ABC,df1,highCrime[0].values,cv=10, scoring='precision')\n",
    "print(\"Precision\", precision4)"
   ]
  },
  {
   "cell_type": "code",
   "execution_count": 108,
   "metadata": {
    "collapsed": false,
    "deletable": true,
    "editable": true
   },
   "outputs": [
    {
     "name": "stdout",
     "output_type": "stream",
     "text": [
      "Most Predictice Features\n"
     ]
    },
    {
     "data": {
      "text/html": [
       "<div>\n",
       "<table border=\"1\" class=\"dataframe\">\n",
       "  <thead>\n",
       "    <tr style=\"text-align: right;\">\n",
       "      <th></th>\n",
       "      <th>Imp</th>\n",
       "    </tr>\n",
       "  </thead>\n",
       "  <tbody>\n",
       "    <tr>\n",
       "      <th>indianPerCap</th>\n",
       "      <td>0.12</td>\n",
       "    </tr>\n",
       "    <tr>\n",
       "      <th>PctPopUnderPov</th>\n",
       "      <td>0.08</td>\n",
       "    </tr>\n",
       "    <tr>\n",
       "      <th>PctSameState85</th>\n",
       "      <td>0.06</td>\n",
       "    </tr>\n",
       "    <tr>\n",
       "      <th>PctSpeakEnglOnly</th>\n",
       "      <td>0.06</td>\n",
       "    </tr>\n",
       "    <tr>\n",
       "      <th>MalePctNevMarr</th>\n",
       "      <td>0.06</td>\n",
       "    </tr>\n",
       "    <tr>\n",
       "      <th>LemasTotReqPerPop</th>\n",
       "      <td>0.04</td>\n",
       "    </tr>\n",
       "    <tr>\n",
       "      <th>PolicPerPop</th>\n",
       "      <td>0.04</td>\n",
       "    </tr>\n",
       "    <tr>\n",
       "      <th>LemasSwFTPerPop</th>\n",
       "      <td>0.04</td>\n",
       "    </tr>\n",
       "    <tr>\n",
       "      <th>PersPerOwnOccHous</th>\n",
       "      <td>0.04</td>\n",
       "    </tr>\n",
       "    <tr>\n",
       "      <th>racePctWhite</th>\n",
       "      <td>0.04</td>\n",
       "    </tr>\n",
       "  </tbody>\n",
       "</table>\n",
       "</div>"
      ],
      "text/plain": [
       "                    Imp\n",
       "indianPerCap       0.12\n",
       "PctPopUnderPov     0.08\n",
       "PctSameState85     0.06\n",
       "PctSpeakEnglOnly   0.06\n",
       "MalePctNevMarr     0.06\n",
       "LemasTotReqPerPop  0.04\n",
       "PolicPerPop        0.04\n",
       "LemasSwFTPerPop    0.04\n",
       "PersPerOwnOccHous  0.04\n",
       "racePctWhite       0.04"
      ]
     },
     "execution_count": 108,
     "metadata": {},
     "output_type": "execute_result"
    }
   ],
   "source": [
    "print(\"Most Predictice Features\")\n",
    "\n",
    "ABC = ABC.fit(df1,highCrime)\n",
    "pd.DataFrame(ABC.feature_importances_, columns = [\"Imp\"], index = df1.columns).sort_values(['Imp'], ascending = False)[:10]"
   ]
  },
  {
   "cell_type": "markdown",
   "metadata": {},
   "source": [
    "#### i.\tWhat method gives the best results?"
   ]
  },
  {
   "cell_type": "code",
   "execution_count": 109,
   "metadata": {
    "collapsed": false
   },
   "outputs": [
    {
     "name": "stdout",
     "output_type": "stream",
     "text": [
      "Accuracy for model Random Forest for clean data 0.780658291457\n",
      "Accuracy for model ADA Boosting for clean data 0.782668341709\n"
     ]
    }
   ],
   "source": [
    "print(\"Accuracy for model Random Forest for clean data\", accuracy1.mean())\n",
    "print(\"Accuracy for model ADA Boosting for clean data\", accuracy3.mean())"
   ]
  },
  {
   "cell_type": "markdown",
   "metadata": {},
   "source": [
    "Accuracy for model Random Forest is 0.79 while for ADA Boosting is 0.78. From above result we can conclude that Random forest give better result as compare to ADA boosting as accuracy for Random Forest is greater than ADA Boosting.  "
   ]
  },
  {
   "cell_type": "code",
   "execution_count": 110,
   "metadata": {
    "collapsed": false
   },
   "outputs": [
    {
     "name": "stdout",
     "output_type": "stream",
     "text": [
      "Accuracy for model Random Forest for full data 0.862587412587\n",
      "Accuracy for model ADA Boosting for full data 0.855536130536\n"
     ]
    }
   ],
   "source": [
    "print(\"Accuracy for model Random Forest for full data\", accuracy2.mean())\n",
    "print(\"Accuracy for model ADA Boosting for full data\", accuracy4.mean())"
   ]
  },
  {
   "cell_type": "markdown",
   "metadata": {},
   "source": [
    "Accuracy for model Random Forest is 0.88 while for ADA Boosting is 0.85. From above result we can conclude that Random forest give better result as compare to ADA boosting as accuracy for Random Forest is greater than ADA Boosting.\n"
   ]
  },
  {
   "cell_type": "markdown",
   "metadata": {},
   "source": [
    "#### ii.\tWhat feature(s) seem to be most consistently predictive of high crime rates? How reliable is this conclusion?"
   ]
  },
  {
   "cell_type": "markdown",
   "metadata": {},
   "source": [
    "'racepctblack' feature is most consistently predictive of high crime rates as this feature is selected as most predictive features for Random Forest model and ADA Boosting model for both clean and full dataset."
   ]
  }
 ],
 "metadata": {
  "kernelspec": {
   "display_name": "Python 3",
   "language": "python",
   "name": "python3"
  },
  "language_info": {
   "codemirror_mode": {
    "name": "ipython",
    "version": 3
   },
   "file_extension": ".py",
   "mimetype": "text/x-python",
   "name": "python",
   "nbconvert_exporter": "python",
   "pygments_lexer": "ipython3",
   "version": "3.6.1"
  }
 },
 "nbformat": 4,
 "nbformat_minor": 2
}
